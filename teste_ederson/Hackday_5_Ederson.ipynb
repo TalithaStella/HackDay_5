{
 "cells": [
  {
   "cell_type": "markdown",
   "id": "19d37455",
   "metadata": {},
   "source": [
    "## Setup"
   ]
  },
  {
   "cell_type": "code",
   "execution_count": 1,
   "id": "7c3e9a30",
   "metadata": {
    "ExecuteTime": {
     "end_time": "2023-07-16T20:07:26.965496Z",
     "start_time": "2023-07-16T20:07:24.873206Z"
    }
   },
   "outputs": [],
   "source": [
    "import math\n",
    "import numpy as np\n",
    "import pandas as pd\n",
    "import inflection\n",
    "\n",
    "import seaborn as sns\n",
    "import matplotlib.pyplot as plt\n",
    "import sweetviz\n",
    "\n",
    "import warnings\n",
    "warnings.filterwarnings(\"ignore\")\n",
    "\n",
    "from scipy import stats\n",
    "\n",
    "from IPython.core.display import HTML\n",
    "\n",
    "from sklearn.preprocessing import StandardScaler\n",
    "\n",
    "from sklearn.linear_model import LogisticRegression\n",
    "from sklearn.tree import DecisionTreeClassifier\n",
    "from sklearn.neighbors import KNeighborsClassifier\n",
    "from sklearn.ensemble import RandomForestClassifier\n",
    "from sklearn.ensemble import BaggingClassifier\n",
    "\n",
    "from sklearn.model_selection import cross_validate\n",
    "from sklearn.model_selection import StratifiedKFold"
   ]
  },
  {
   "cell_type": "markdown",
   "id": "73cad125",
   "metadata": {},
   "source": [
    "### Configurações"
   ]
  },
  {
   "cell_type": "code",
   "execution_count": 2,
   "id": "4a5a2b30",
   "metadata": {
    "ExecuteTime": {
     "end_time": "2023-07-16T20:07:26.981242Z",
     "start_time": "2023-07-16T20:07:26.967503Z"
    }
   },
   "outputs": [],
   "source": [
    "def jupyter_settings():\n",
    "    %matplotlib inline\n",
    "    plt.style.use( 'bmh' )\n",
    "    plt.rcParams['figure.figsize'] = [25, 12]\n",
    "    plt.rcParams['font.size'] = 24\n",
    "    display( HTML( '<style>.container { width:100% !important; }</style>') )\n",
    "    pd.options.display.max_columns = None\n",
    "    pd.options.display.max_rows = None\n",
    "    pd.set_option( 'display.expand_frame_repr', False )\n",
    "    sns.set()"
   ]
  },
  {
   "cell_type": "code",
   "execution_count": 3,
   "id": "ddd326a3",
   "metadata": {
    "ExecuteTime": {
     "end_time": "2023-07-16T20:07:27.012956Z",
     "start_time": "2023-07-16T20:07:26.983518Z"
    }
   },
   "outputs": [
    {
     "data": {
      "text/html": [
       "<style>.container { width:100% !important; }</style>"
      ],
      "text/plain": [
       "<IPython.core.display.HTML object>"
      ]
     },
     "metadata": {},
     "output_type": "display_data"
    }
   ],
   "source": [
    "jupyter_settings()"
   ]
  },
  {
   "cell_type": "markdown",
   "id": "f17934ff",
   "metadata": {},
   "source": [
    "## Coleta dos Dados"
   ]
  },
  {
   "cell_type": "code",
   "execution_count": 4,
   "id": "0b21bfe6",
   "metadata": {
    "ExecuteTime": {
     "end_time": "2023-07-16T20:07:27.307692Z",
     "start_time": "2023-07-16T20:07:27.016487Z"
    }
   },
   "outputs": [],
   "source": [
    "df_raw = pd.read_csv(\"../data/raw/train.csv\")\n",
    "df_test = pd.read_csv(\"../data/raw/test.csv\")"
   ]
  },
  {
   "cell_type": "code",
   "execution_count": 5,
   "id": "38409cc0",
   "metadata": {
    "ExecuteTime": {
     "end_time": "2023-07-16T20:07:27.322861Z",
     "start_time": "2023-07-16T20:07:27.309668Z"
    }
   },
   "outputs": [
    {
     "data": {
      "text/plain": [
       "(103904, 24)"
      ]
     },
     "execution_count": 5,
     "metadata": {},
     "output_type": "execute_result"
    }
   ],
   "source": [
    "df_raw.shape"
   ]
  },
  {
   "cell_type": "code",
   "execution_count": 6,
   "id": "874da32c",
   "metadata": {
    "ExecuteTime": {
     "end_time": "2023-07-16T20:07:27.338574Z",
     "start_time": "2023-07-16T20:07:27.324861Z"
    }
   },
   "outputs": [
    {
     "data": {
      "text/plain": [
       "(25976, 23)"
      ]
     },
     "execution_count": 6,
     "metadata": {},
     "output_type": "execute_result"
    }
   ],
   "source": [
    "df_test.shape"
   ]
  },
  {
   "cell_type": "code",
   "execution_count": 7,
   "id": "16081470",
   "metadata": {
    "ExecuteTime": {
     "end_time": "2023-07-16T20:07:27.369323Z",
     "start_time": "2023-07-16T20:07:27.340575Z"
    }
   },
   "outputs": [
    {
     "data": {
      "text/html": [
       "<div>\n",
       "<style scoped>\n",
       "    .dataframe tbody tr th:only-of-type {\n",
       "        vertical-align: middle;\n",
       "    }\n",
       "\n",
       "    .dataframe tbody tr th {\n",
       "        vertical-align: top;\n",
       "    }\n",
       "\n",
       "    .dataframe thead th {\n",
       "        text-align: right;\n",
       "    }\n",
       "</style>\n",
       "<table border=\"1\" class=\"dataframe\">\n",
       "  <thead>\n",
       "    <tr style=\"text-align: right;\">\n",
       "      <th></th>\n",
       "      <th>id</th>\n",
       "      <th>Gender</th>\n",
       "      <th>Customer Type</th>\n",
       "      <th>Age</th>\n",
       "      <th>Type of Purchase</th>\n",
       "      <th>Store size</th>\n",
       "      <th>Store distance</th>\n",
       "      <th>InStore wifi</th>\n",
       "      <th>Open/Close time convenient</th>\n",
       "      <th>Easy of online shopping</th>\n",
       "      <th>Store location</th>\n",
       "      <th>Toilet cleaning</th>\n",
       "      <th>Dressing room</th>\n",
       "      <th>Waiting room</th>\n",
       "      <th>Kids entertainment</th>\n",
       "      <th>Seller service</th>\n",
       "      <th>Showroom</th>\n",
       "      <th>Self-Store</th>\n",
       "      <th>Purchase service</th>\n",
       "      <th>Store Service</th>\n",
       "      <th>Cleanliness</th>\n",
       "      <th>Carrier delay in minutes</th>\n",
       "      <th>Delivery delay in minutes</th>\n",
       "      <th>Satisfaction</th>\n",
       "    </tr>\n",
       "  </thead>\n",
       "  <tbody>\n",
       "    <tr>\n",
       "      <th>4211</th>\n",
       "      <td>121459</td>\n",
       "      <td>Female</td>\n",
       "      <td>Loyal Customer</td>\n",
       "      <td>26</td>\n",
       "      <td>Personal</td>\n",
       "      <td>Medium</td>\n",
       "      <td>290</td>\n",
       "      <td>4</td>\n",
       "      <td>4</td>\n",
       "      <td>3</td>\n",
       "      <td>4</td>\n",
       "      <td>5</td>\n",
       "      <td>3</td>\n",
       "      <td>5</td>\n",
       "      <td>5</td>\n",
       "      <td>5</td>\n",
       "      <td>5</td>\n",
       "      <td>5</td>\n",
       "      <td>4</td>\n",
       "      <td>4</td>\n",
       "      <td>5</td>\n",
       "      <td>0</td>\n",
       "      <td>0.0</td>\n",
       "      <td>Satisfied</td>\n",
       "    </tr>\n",
       "    <tr>\n",
       "      <th>2123</th>\n",
       "      <td>8606</td>\n",
       "      <td>Male</td>\n",
       "      <td>Loyal Customer</td>\n",
       "      <td>37</td>\n",
       "      <td>Personal</td>\n",
       "      <td>Small</td>\n",
       "      <td>109</td>\n",
       "      <td>3</td>\n",
       "      <td>1</td>\n",
       "      <td>3</td>\n",
       "      <td>2</td>\n",
       "      <td>4</td>\n",
       "      <td>3</td>\n",
       "      <td>4</td>\n",
       "      <td>4</td>\n",
       "      <td>2</td>\n",
       "      <td>1</td>\n",
       "      <td>3</td>\n",
       "      <td>1</td>\n",
       "      <td>2</td>\n",
       "      <td>4</td>\n",
       "      <td>0</td>\n",
       "      <td>0.0</td>\n",
       "      <td>Neutral or Dissatisfaction</td>\n",
       "    </tr>\n",
       "    <tr>\n",
       "      <th>13444</th>\n",
       "      <td>127267</td>\n",
       "      <td>Female</td>\n",
       "      <td>Loyal Customer</td>\n",
       "      <td>55</td>\n",
       "      <td>Gift</td>\n",
       "      <td>Large</td>\n",
       "      <td>2212</td>\n",
       "      <td>3</td>\n",
       "      <td>5</td>\n",
       "      <td>5</td>\n",
       "      <td>5</td>\n",
       "      <td>1</td>\n",
       "      <td>4</td>\n",
       "      <td>3</td>\n",
       "      <td>3</td>\n",
       "      <td>3</td>\n",
       "      <td>3</td>\n",
       "      <td>3</td>\n",
       "      <td>2</td>\n",
       "      <td>3</td>\n",
       "      <td>4</td>\n",
       "      <td>0</td>\n",
       "      <td>0.0</td>\n",
       "      <td>Neutral or Dissatisfaction</td>\n",
       "    </tr>\n",
       "    <tr>\n",
       "      <th>78973</th>\n",
       "      <td>24967</td>\n",
       "      <td>Male</td>\n",
       "      <td>Loyal Customer</td>\n",
       "      <td>44</td>\n",
       "      <td>Gift</td>\n",
       "      <td>Small</td>\n",
       "      <td>949</td>\n",
       "      <td>4</td>\n",
       "      <td>2</td>\n",
       "      <td>2</td>\n",
       "      <td>2</td>\n",
       "      <td>4</td>\n",
       "      <td>4</td>\n",
       "      <td>4</td>\n",
       "      <td>4</td>\n",
       "      <td>2</td>\n",
       "      <td>4</td>\n",
       "      <td>5</td>\n",
       "      <td>2</td>\n",
       "      <td>3</td>\n",
       "      <td>4</td>\n",
       "      <td>0</td>\n",
       "      <td>0.0</td>\n",
       "      <td>Satisfied</td>\n",
       "    </tr>\n",
       "    <tr>\n",
       "      <th>3464</th>\n",
       "      <td>109219</td>\n",
       "      <td>Male</td>\n",
       "      <td>Loyal Customer</td>\n",
       "      <td>36</td>\n",
       "      <td>Gift</td>\n",
       "      <td>Large</td>\n",
       "      <td>255</td>\n",
       "      <td>1</td>\n",
       "      <td>1</td>\n",
       "      <td>1</td>\n",
       "      <td>1</td>\n",
       "      <td>2</td>\n",
       "      <td>4</td>\n",
       "      <td>3</td>\n",
       "      <td>1</td>\n",
       "      <td>1</td>\n",
       "      <td>1</td>\n",
       "      <td>1</td>\n",
       "      <td>1</td>\n",
       "      <td>1</td>\n",
       "      <td>2</td>\n",
       "      <td>0</td>\n",
       "      <td>0.0</td>\n",
       "      <td>Neutral or Dissatisfaction</td>\n",
       "    </tr>\n",
       "    <tr>\n",
       "      <th>42276</th>\n",
       "      <td>96817</td>\n",
       "      <td>Female</td>\n",
       "      <td>Loyal Customer</td>\n",
       "      <td>44</td>\n",
       "      <td>Gift</td>\n",
       "      <td>Large</td>\n",
       "      <td>849</td>\n",
       "      <td>4</td>\n",
       "      <td>4</td>\n",
       "      <td>4</td>\n",
       "      <td>4</td>\n",
       "      <td>4</td>\n",
       "      <td>4</td>\n",
       "      <td>4</td>\n",
       "      <td>5</td>\n",
       "      <td>5</td>\n",
       "      <td>4</td>\n",
       "      <td>5</td>\n",
       "      <td>3</td>\n",
       "      <td>5</td>\n",
       "      <td>5</td>\n",
       "      <td>9</td>\n",
       "      <td>2.0</td>\n",
       "      <td>Satisfied</td>\n",
       "    </tr>\n",
       "    <tr>\n",
       "      <th>13255</th>\n",
       "      <td>36983</td>\n",
       "      <td>Male</td>\n",
       "      <td>Loyal Customer</td>\n",
       "      <td>46</td>\n",
       "      <td>Gift</td>\n",
       "      <td>Medium</td>\n",
       "      <td>759</td>\n",
       "      <td>4</td>\n",
       "      <td>3</td>\n",
       "      <td>3</td>\n",
       "      <td>3</td>\n",
       "      <td>4</td>\n",
       "      <td>4</td>\n",
       "      <td>4</td>\n",
       "      <td>4</td>\n",
       "      <td>1</td>\n",
       "      <td>1</td>\n",
       "      <td>3</td>\n",
       "      <td>2</td>\n",
       "      <td>1</td>\n",
       "      <td>4</td>\n",
       "      <td>0</td>\n",
       "      <td>0.0</td>\n",
       "      <td>Satisfied</td>\n",
       "    </tr>\n",
       "    <tr>\n",
       "      <th>15347</th>\n",
       "      <td>121888</td>\n",
       "      <td>Male</td>\n",
       "      <td>Loyal Customer</td>\n",
       "      <td>46</td>\n",
       "      <td>Personal</td>\n",
       "      <td>Medium</td>\n",
       "      <td>366</td>\n",
       "      <td>1</td>\n",
       "      <td>4</td>\n",
       "      <td>1</td>\n",
       "      <td>2</td>\n",
       "      <td>3</td>\n",
       "      <td>1</td>\n",
       "      <td>1</td>\n",
       "      <td>3</td>\n",
       "      <td>1</td>\n",
       "      <td>1</td>\n",
       "      <td>2</td>\n",
       "      <td>3</td>\n",
       "      <td>5</td>\n",
       "      <td>3</td>\n",
       "      <td>0</td>\n",
       "      <td>0.0</td>\n",
       "      <td>Neutral or Dissatisfaction</td>\n",
       "    </tr>\n",
       "    <tr>\n",
       "      <th>93047</th>\n",
       "      <td>111224</td>\n",
       "      <td>Female</td>\n",
       "      <td>Loyal Customer</td>\n",
       "      <td>56</td>\n",
       "      <td>Personal</td>\n",
       "      <td>Medium</td>\n",
       "      <td>1447</td>\n",
       "      <td>1</td>\n",
       "      <td>4</td>\n",
       "      <td>1</td>\n",
       "      <td>4</td>\n",
       "      <td>2</td>\n",
       "      <td>1</td>\n",
       "      <td>1</td>\n",
       "      <td>5</td>\n",
       "      <td>5</td>\n",
       "      <td>1</td>\n",
       "      <td>5</td>\n",
       "      <td>5</td>\n",
       "      <td>5</td>\n",
       "      <td>1</td>\n",
       "      <td>19</td>\n",
       "      <td>20.0</td>\n",
       "      <td>Neutral or Dissatisfaction</td>\n",
       "    </tr>\n",
       "    <tr>\n",
       "      <th>87032</th>\n",
       "      <td>116550</td>\n",
       "      <td>Female</td>\n",
       "      <td>Loyal Customer</td>\n",
       "      <td>32</td>\n",
       "      <td>Personal</td>\n",
       "      <td>Medium</td>\n",
       "      <td>480</td>\n",
       "      <td>1</td>\n",
       "      <td>3</td>\n",
       "      <td>1</td>\n",
       "      <td>4</td>\n",
       "      <td>1</td>\n",
       "      <td>1</td>\n",
       "      <td>1</td>\n",
       "      <td>1</td>\n",
       "      <td>2</td>\n",
       "      <td>3</td>\n",
       "      <td>3</td>\n",
       "      <td>1</td>\n",
       "      <td>3</td>\n",
       "      <td>1</td>\n",
       "      <td>1</td>\n",
       "      <td>0.0</td>\n",
       "      <td>Neutral or Dissatisfaction</td>\n",
       "    </tr>\n",
       "  </tbody>\n",
       "</table>\n",
       "</div>"
      ],
      "text/plain": [
       "           id  Gender   Customer Type  Age Type of Purchase Store size  Store distance  InStore wifi  Open/Close time convenient  Easy of online shopping  Store location  Toilet cleaning  Dressing room  Waiting room  Kids entertainment  Seller service  Showroom   Self-Store  Purchase service  Store Service  Cleanliness  Carrier delay in minutes  Delivery delay in minutes                Satisfaction\n",
       "4211   121459  Female  Loyal Customer   26         Personal     Medium             290             4                           4                        3               4                5              3             5                   5               5          5           5                 4              4            5                         0                        0.0                   Satisfied\n",
       "2123     8606    Male  Loyal Customer   37         Personal      Small             109             3                           1                        3               2                4              3             4                   4               2          1           3                 1              2            4                         0                        0.0  Neutral or Dissatisfaction\n",
       "13444  127267  Female  Loyal Customer   55             Gift      Large            2212             3                           5                        5               5                1              4             3                   3               3          3           3                 2              3            4                         0                        0.0  Neutral or Dissatisfaction\n",
       "78973   24967    Male  Loyal Customer   44             Gift      Small             949             4                           2                        2               2                4              4             4                   4               2          4           5                 2              3            4                         0                        0.0                   Satisfied\n",
       "3464   109219    Male  Loyal Customer   36             Gift      Large             255             1                           1                        1               1                2              4             3                   1               1          1           1                 1              1            2                         0                        0.0  Neutral or Dissatisfaction\n",
       "42276   96817  Female  Loyal Customer   44             Gift      Large             849             4                           4                        4               4                4              4             4                   5               5          4           5                 3              5            5                         9                        2.0                   Satisfied\n",
       "13255   36983    Male  Loyal Customer   46             Gift     Medium             759             4                           3                        3               3                4              4             4                   4               1          1           3                 2              1            4                         0                        0.0                   Satisfied\n",
       "15347  121888    Male  Loyal Customer   46         Personal     Medium             366             1                           4                        1               2                3              1             1                   3               1          1           2                 3              5            3                         0                        0.0  Neutral or Dissatisfaction\n",
       "93047  111224  Female  Loyal Customer   56         Personal     Medium            1447             1                           4                        1               4                2              1             1                   5               5          1           5                 5              5            1                        19                       20.0  Neutral or Dissatisfaction\n",
       "87032  116550  Female  Loyal Customer   32         Personal     Medium             480             1                           3                        1               4                1              1             1                   1               2          3           3                 1              3            1                         1                        0.0  Neutral or Dissatisfaction"
      ]
     },
     "execution_count": 7,
     "metadata": {},
     "output_type": "execute_result"
    }
   ],
   "source": [
    "df_raw.sample(10)"
   ]
  },
  {
   "cell_type": "code",
   "execution_count": 8,
   "id": "10cbaa21",
   "metadata": {
    "ExecuteTime": {
     "end_time": "2023-07-16T20:07:27.400705Z",
     "start_time": "2023-07-16T20:07:27.371327Z"
    }
   },
   "outputs": [
    {
     "data": {
      "text/html": [
       "<div>\n",
       "<style scoped>\n",
       "    .dataframe tbody tr th:only-of-type {\n",
       "        vertical-align: middle;\n",
       "    }\n",
       "\n",
       "    .dataframe tbody tr th {\n",
       "        vertical-align: top;\n",
       "    }\n",
       "\n",
       "    .dataframe thead th {\n",
       "        text-align: right;\n",
       "    }\n",
       "</style>\n",
       "<table border=\"1\" class=\"dataframe\">\n",
       "  <thead>\n",
       "    <tr style=\"text-align: right;\">\n",
       "      <th></th>\n",
       "      <th>id</th>\n",
       "      <th>Gender</th>\n",
       "      <th>Customer Type</th>\n",
       "      <th>Age</th>\n",
       "      <th>Type of Purchase</th>\n",
       "      <th>Store size</th>\n",
       "      <th>Store distance</th>\n",
       "      <th>InStore wifi</th>\n",
       "      <th>Open/Close time convenient</th>\n",
       "      <th>Easy of online shopping</th>\n",
       "      <th>Store location</th>\n",
       "      <th>Toilet cleaning</th>\n",
       "      <th>Dressing room</th>\n",
       "      <th>Waiting room</th>\n",
       "      <th>Kids entertainment</th>\n",
       "      <th>Seller service</th>\n",
       "      <th>Showroom</th>\n",
       "      <th>Self-Store</th>\n",
       "      <th>Purchase service</th>\n",
       "      <th>Store Service</th>\n",
       "      <th>Cleanliness</th>\n",
       "      <th>Carrier delay in minutes</th>\n",
       "      <th>Delivery delay in minutes</th>\n",
       "      <th>Satisfaction</th>\n",
       "    </tr>\n",
       "  </thead>\n",
       "  <tbody>\n",
       "    <tr>\n",
       "      <th>103899</th>\n",
       "      <td>94171</td>\n",
       "      <td>Female</td>\n",
       "      <td>disloyal Customer</td>\n",
       "      <td>23</td>\n",
       "      <td>Gift</td>\n",
       "      <td>Medium</td>\n",
       "      <td>192</td>\n",
       "      <td>2</td>\n",
       "      <td>1</td>\n",
       "      <td>2</td>\n",
       "      <td>3</td>\n",
       "      <td>2</td>\n",
       "      <td>2</td>\n",
       "      <td>2</td>\n",
       "      <td>2</td>\n",
       "      <td>3</td>\n",
       "      <td>1</td>\n",
       "      <td>4</td>\n",
       "      <td>2</td>\n",
       "      <td>3</td>\n",
       "      <td>2</td>\n",
       "      <td>3</td>\n",
       "      <td>0.0</td>\n",
       "      <td>Neutral or Dissatisfaction</td>\n",
       "    </tr>\n",
       "    <tr>\n",
       "      <th>103900</th>\n",
       "      <td>73097</td>\n",
       "      <td>Male</td>\n",
       "      <td>Loyal Customer</td>\n",
       "      <td>49</td>\n",
       "      <td>Gift</td>\n",
       "      <td>Large</td>\n",
       "      <td>2347</td>\n",
       "      <td>4</td>\n",
       "      <td>4</td>\n",
       "      <td>4</td>\n",
       "      <td>4</td>\n",
       "      <td>2</td>\n",
       "      <td>4</td>\n",
       "      <td>5</td>\n",
       "      <td>5</td>\n",
       "      <td>5</td>\n",
       "      <td>5</td>\n",
       "      <td>5</td>\n",
       "      <td>5</td>\n",
       "      <td>5</td>\n",
       "      <td>4</td>\n",
       "      <td>0</td>\n",
       "      <td>0.0</td>\n",
       "      <td>Satisfied</td>\n",
       "    </tr>\n",
       "    <tr>\n",
       "      <th>103901</th>\n",
       "      <td>68825</td>\n",
       "      <td>Male</td>\n",
       "      <td>disloyal Customer</td>\n",
       "      <td>30</td>\n",
       "      <td>Gift</td>\n",
       "      <td>Large</td>\n",
       "      <td>1995</td>\n",
       "      <td>1</td>\n",
       "      <td>1</td>\n",
       "      <td>1</td>\n",
       "      <td>3</td>\n",
       "      <td>4</td>\n",
       "      <td>1</td>\n",
       "      <td>5</td>\n",
       "      <td>4</td>\n",
       "      <td>3</td>\n",
       "      <td>2</td>\n",
       "      <td>4</td>\n",
       "      <td>5</td>\n",
       "      <td>5</td>\n",
       "      <td>4</td>\n",
       "      <td>7</td>\n",
       "      <td>14.0</td>\n",
       "      <td>Neutral or Dissatisfaction</td>\n",
       "    </tr>\n",
       "    <tr>\n",
       "      <th>103902</th>\n",
       "      <td>54173</td>\n",
       "      <td>Female</td>\n",
       "      <td>disloyal Customer</td>\n",
       "      <td>22</td>\n",
       "      <td>Gift</td>\n",
       "      <td>Medium</td>\n",
       "      <td>1000</td>\n",
       "      <td>1</td>\n",
       "      <td>1</td>\n",
       "      <td>1</td>\n",
       "      <td>5</td>\n",
       "      <td>1</td>\n",
       "      <td>1</td>\n",
       "      <td>1</td>\n",
       "      <td>1</td>\n",
       "      <td>4</td>\n",
       "      <td>5</td>\n",
       "      <td>1</td>\n",
       "      <td>5</td>\n",
       "      <td>4</td>\n",
       "      <td>1</td>\n",
       "      <td>0</td>\n",
       "      <td>0.0</td>\n",
       "      <td>Neutral or Dissatisfaction</td>\n",
       "    </tr>\n",
       "    <tr>\n",
       "      <th>103903</th>\n",
       "      <td>62567</td>\n",
       "      <td>Male</td>\n",
       "      <td>Loyal Customer</td>\n",
       "      <td>27</td>\n",
       "      <td>Gift</td>\n",
       "      <td>Large</td>\n",
       "      <td>1723</td>\n",
       "      <td>1</td>\n",
       "      <td>3</td>\n",
       "      <td>3</td>\n",
       "      <td>3</td>\n",
       "      <td>1</td>\n",
       "      <td>1</td>\n",
       "      <td>1</td>\n",
       "      <td>1</td>\n",
       "      <td>1</td>\n",
       "      <td>1</td>\n",
       "      <td>4</td>\n",
       "      <td>4</td>\n",
       "      <td>3</td>\n",
       "      <td>1</td>\n",
       "      <td>0</td>\n",
       "      <td>0.0</td>\n",
       "      <td>Neutral or Dissatisfaction</td>\n",
       "    </tr>\n",
       "  </tbody>\n",
       "</table>\n",
       "</div>"
      ],
      "text/plain": [
       "           id  Gender      Customer Type  Age Type of Purchase Store size  Store distance  InStore wifi  Open/Close time convenient  Easy of online shopping  Store location  Toilet cleaning  Dressing room  Waiting room  Kids entertainment  Seller service  Showroom   Self-Store  Purchase service  Store Service  Cleanliness  Carrier delay in minutes  Delivery delay in minutes                Satisfaction\n",
       "103899  94171  Female  disloyal Customer   23             Gift     Medium             192             2                           1                        2               3                2              2             2                   2               3          1           4                 2              3            2                         3                        0.0  Neutral or Dissatisfaction\n",
       "103900  73097    Male     Loyal Customer   49             Gift      Large            2347             4                           4                        4               4                2              4             5                   5               5          5           5                 5              5            4                         0                        0.0                   Satisfied\n",
       "103901  68825    Male  disloyal Customer   30             Gift      Large            1995             1                           1                        1               3                4              1             5                   4               3          2           4                 5              5            4                         7                       14.0  Neutral or Dissatisfaction\n",
       "103902  54173  Female  disloyal Customer   22             Gift     Medium            1000             1                           1                        1               5                1              1             1                   1               4          5           1                 5              4            1                         0                        0.0  Neutral or Dissatisfaction\n",
       "103903  62567    Male     Loyal Customer   27             Gift      Large            1723             1                           3                        3               3                1              1             1                   1               1          1           4                 4              3            1                         0                        0.0  Neutral or Dissatisfaction"
      ]
     },
     "execution_count": 8,
     "metadata": {},
     "output_type": "execute_result"
    }
   ],
   "source": [
    "df_raw.tail()"
   ]
  },
  {
   "cell_type": "code",
   "execution_count": 9,
   "id": "a63d99d8",
   "metadata": {
    "ExecuteTime": {
     "end_time": "2023-07-16T20:07:27.509180Z",
     "start_time": "2023-07-16T20:07:27.402710Z"
    }
   },
   "outputs": [
    {
     "name": "stdout",
     "output_type": "stream",
     "text": [
      "<class 'pandas.core.frame.DataFrame'>\n",
      "RangeIndex: 103904 entries, 0 to 103903\n",
      "Data columns (total 24 columns):\n",
      " #   Column                      Non-Null Count   Dtype  \n",
      "---  ------                      --------------   -----  \n",
      " 0   id                          103904 non-null  int64  \n",
      " 1   Gender                      103904 non-null  object \n",
      " 2   Customer Type               103904 non-null  object \n",
      " 3   Age                         103904 non-null  int64  \n",
      " 4   Type of Purchase            103904 non-null  object \n",
      " 5   Store size                  103904 non-null  object \n",
      " 6   Store distance              103904 non-null  int64  \n",
      " 7   InStore wifi                103904 non-null  int64  \n",
      " 8   Open/Close time convenient  103904 non-null  int64  \n",
      " 9   Easy of online shopping     103904 non-null  int64  \n",
      " 10  Store location              103904 non-null  int64  \n",
      " 11  Toilet cleaning             103904 non-null  int64  \n",
      " 12  Dressing room               103904 non-null  int64  \n",
      " 13  Waiting room                103904 non-null  int64  \n",
      " 14  Kids entertainment          103904 non-null  int64  \n",
      " 15  Seller service              103904 non-null  int64  \n",
      " 16  Showroom                    103904 non-null  int64  \n",
      " 17  Self-Store                  103904 non-null  int64  \n",
      " 18  Purchase service            103904 non-null  int64  \n",
      " 19  Store Service               103904 non-null  int64  \n",
      " 20  Cleanliness                 103904 non-null  int64  \n",
      " 21  Carrier delay in minutes    103904 non-null  int64  \n",
      " 22  Delivery delay in minutes   103594 non-null  float64\n",
      " 23  Satisfaction                103904 non-null  object \n",
      "dtypes: float64(1), int64(18), object(5)\n",
      "memory usage: 19.0+ MB\n"
     ]
    }
   ],
   "source": [
    "df_raw.info()"
   ]
  },
  {
   "cell_type": "code",
   "execution_count": 10,
   "id": "a97ee616",
   "metadata": {
    "ExecuteTime": {
     "end_time": "2023-07-16T20:07:27.541527Z",
     "start_time": "2023-07-16T20:07:27.513225Z"
    }
   },
   "outputs": [
    {
     "data": {
      "text/html": [
       "<div>\n",
       "<style scoped>\n",
       "    .dataframe tbody tr th:only-of-type {\n",
       "        vertical-align: middle;\n",
       "    }\n",
       "\n",
       "    .dataframe tbody tr th {\n",
       "        vertical-align: top;\n",
       "    }\n",
       "\n",
       "    .dataframe thead th {\n",
       "        text-align: right;\n",
       "    }\n",
       "</style>\n",
       "<table border=\"1\" class=\"dataframe\">\n",
       "  <thead>\n",
       "    <tr style=\"text-align: right;\">\n",
       "      <th></th>\n",
       "      <th>id</th>\n",
       "      <th>Gender</th>\n",
       "      <th>Customer Type</th>\n",
       "      <th>Age</th>\n",
       "      <th>Type of Purchase</th>\n",
       "      <th>Store size</th>\n",
       "      <th>Store distance</th>\n",
       "      <th>InStore wifi</th>\n",
       "      <th>Open/Close time convenient</th>\n",
       "      <th>Easy of online shopping</th>\n",
       "      <th>Store location</th>\n",
       "      <th>Toilet cleaning</th>\n",
       "      <th>Dressing room</th>\n",
       "      <th>Waiting room</th>\n",
       "      <th>Kids entertainment</th>\n",
       "      <th>Seller service</th>\n",
       "      <th>Showroom</th>\n",
       "      <th>Self-Store</th>\n",
       "      <th>Purchase service</th>\n",
       "      <th>Store Service</th>\n",
       "      <th>Cleanliness</th>\n",
       "      <th>Carrier delay in minutes</th>\n",
       "      <th>Delivery delay in minutes</th>\n",
       "    </tr>\n",
       "  </thead>\n",
       "  <tbody>\n",
       "    <tr>\n",
       "      <th>0</th>\n",
       "      <td>19556</td>\n",
       "      <td>Female</td>\n",
       "      <td>Loyal Customer</td>\n",
       "      <td>52</td>\n",
       "      <td>Gift</td>\n",
       "      <td>Medium</td>\n",
       "      <td>160</td>\n",
       "      <td>5</td>\n",
       "      <td>4</td>\n",
       "      <td>3</td>\n",
       "      <td>4</td>\n",
       "      <td>3</td>\n",
       "      <td>4</td>\n",
       "      <td>3</td>\n",
       "      <td>5</td>\n",
       "      <td>5</td>\n",
       "      <td>5</td>\n",
       "      <td>5</td>\n",
       "      <td>2</td>\n",
       "      <td>5</td>\n",
       "      <td>5</td>\n",
       "      <td>50</td>\n",
       "      <td>44.0</td>\n",
       "    </tr>\n",
       "    <tr>\n",
       "      <th>1</th>\n",
       "      <td>90035</td>\n",
       "      <td>Female</td>\n",
       "      <td>Loyal Customer</td>\n",
       "      <td>36</td>\n",
       "      <td>Gift</td>\n",
       "      <td>Large</td>\n",
       "      <td>2863</td>\n",
       "      <td>1</td>\n",
       "      <td>1</td>\n",
       "      <td>3</td>\n",
       "      <td>1</td>\n",
       "      <td>5</td>\n",
       "      <td>4</td>\n",
       "      <td>5</td>\n",
       "      <td>4</td>\n",
       "      <td>4</td>\n",
       "      <td>4</td>\n",
       "      <td>4</td>\n",
       "      <td>3</td>\n",
       "      <td>4</td>\n",
       "      <td>5</td>\n",
       "      <td>0</td>\n",
       "      <td>0.0</td>\n",
       "    </tr>\n",
       "    <tr>\n",
       "      <th>2</th>\n",
       "      <td>12360</td>\n",
       "      <td>Male</td>\n",
       "      <td>disloyal Customer</td>\n",
       "      <td>20</td>\n",
       "      <td>Gift</td>\n",
       "      <td>Medium</td>\n",
       "      <td>192</td>\n",
       "      <td>2</td>\n",
       "      <td>0</td>\n",
       "      <td>2</td>\n",
       "      <td>4</td>\n",
       "      <td>2</td>\n",
       "      <td>2</td>\n",
       "      <td>2</td>\n",
       "      <td>2</td>\n",
       "      <td>4</td>\n",
       "      <td>1</td>\n",
       "      <td>3</td>\n",
       "      <td>2</td>\n",
       "      <td>2</td>\n",
       "      <td>2</td>\n",
       "      <td>0</td>\n",
       "      <td>0.0</td>\n",
       "    </tr>\n",
       "    <tr>\n",
       "      <th>3</th>\n",
       "      <td>77959</td>\n",
       "      <td>Male</td>\n",
       "      <td>Loyal Customer</td>\n",
       "      <td>44</td>\n",
       "      <td>Gift</td>\n",
       "      <td>Large</td>\n",
       "      <td>3377</td>\n",
       "      <td>0</td>\n",
       "      <td>0</td>\n",
       "      <td>0</td>\n",
       "      <td>2</td>\n",
       "      <td>3</td>\n",
       "      <td>4</td>\n",
       "      <td>4</td>\n",
       "      <td>1</td>\n",
       "      <td>1</td>\n",
       "      <td>1</td>\n",
       "      <td>1</td>\n",
       "      <td>3</td>\n",
       "      <td>1</td>\n",
       "      <td>4</td>\n",
       "      <td>0</td>\n",
       "      <td>6.0</td>\n",
       "    </tr>\n",
       "    <tr>\n",
       "      <th>4</th>\n",
       "      <td>36875</td>\n",
       "      <td>Female</td>\n",
       "      <td>Loyal Customer</td>\n",
       "      <td>49</td>\n",
       "      <td>Gift</td>\n",
       "      <td>Medium</td>\n",
       "      <td>1182</td>\n",
       "      <td>2</td>\n",
       "      <td>3</td>\n",
       "      <td>4</td>\n",
       "      <td>3</td>\n",
       "      <td>4</td>\n",
       "      <td>1</td>\n",
       "      <td>2</td>\n",
       "      <td>2</td>\n",
       "      <td>2</td>\n",
       "      <td>2</td>\n",
       "      <td>2</td>\n",
       "      <td>4</td>\n",
       "      <td>2</td>\n",
       "      <td>4</td>\n",
       "      <td>0</td>\n",
       "      <td>20.0</td>\n",
       "    </tr>\n",
       "  </tbody>\n",
       "</table>\n",
       "</div>"
      ],
      "text/plain": [
       "      id  Gender      Customer Type  Age Type of Purchase Store size  Store distance  InStore wifi  Open/Close time convenient  Easy of online shopping  Store location  Toilet cleaning  Dressing room  Waiting room  Kids entertainment  Seller service  Showroom   Self-Store  Purchase service  Store Service  Cleanliness  Carrier delay in minutes  Delivery delay in minutes\n",
       "0  19556  Female     Loyal Customer   52             Gift     Medium             160             5                           4                        3               4                3              4             3                   5               5          5           5                 2              5            5                        50                       44.0\n",
       "1  90035  Female     Loyal Customer   36             Gift      Large            2863             1                           1                        3               1                5              4             5                   4               4          4           4                 3              4            5                         0                        0.0\n",
       "2  12360    Male  disloyal Customer   20             Gift     Medium             192             2                           0                        2               4                2              2             2                   2               4          1           3                 2              2            2                         0                        0.0\n",
       "3  77959    Male     Loyal Customer   44             Gift      Large            3377             0                           0                        0               2                3              4             4                   1               1          1           1                 3              1            4                         0                        6.0\n",
       "4  36875  Female     Loyal Customer   49             Gift     Medium            1182             2                           3                        4               3                4              1             2                   2               2          2           2                 4              2            4                         0                       20.0"
      ]
     },
     "execution_count": 10,
     "metadata": {},
     "output_type": "execute_result"
    }
   ],
   "source": [
    "df_test.head()"
   ]
  },
  {
   "cell_type": "code",
   "execution_count": 11,
   "id": "508e8590",
   "metadata": {
    "ExecuteTime": {
     "end_time": "2023-07-16T20:07:27.589093Z",
     "start_time": "2023-07-16T20:07:27.543436Z"
    }
   },
   "outputs": [
    {
     "name": "stdout",
     "output_type": "stream",
     "text": [
      "<class 'pandas.core.frame.DataFrame'>\n",
      "RangeIndex: 25976 entries, 0 to 25975\n",
      "Data columns (total 23 columns):\n",
      " #   Column                      Non-Null Count  Dtype  \n",
      "---  ------                      --------------  -----  \n",
      " 0   id                          25976 non-null  int64  \n",
      " 1   Gender                      25976 non-null  object \n",
      " 2   Customer Type               25976 non-null  object \n",
      " 3   Age                         25976 non-null  int64  \n",
      " 4   Type of Purchase            25976 non-null  object \n",
      " 5   Store size                  25976 non-null  object \n",
      " 6   Store distance              25976 non-null  int64  \n",
      " 7   InStore wifi                25976 non-null  int64  \n",
      " 8   Open/Close time convenient  25976 non-null  int64  \n",
      " 9   Easy of online shopping     25976 non-null  int64  \n",
      " 10  Store location              25976 non-null  int64  \n",
      " 11  Toilet cleaning             25976 non-null  int64  \n",
      " 12  Dressing room               25976 non-null  int64  \n",
      " 13  Waiting room                25976 non-null  int64  \n",
      " 14  Kids entertainment          25976 non-null  int64  \n",
      " 15  Seller service              25976 non-null  int64  \n",
      " 16  Showroom                    25976 non-null  int64  \n",
      " 17  Self-Store                  25976 non-null  int64  \n",
      " 18  Purchase service            25976 non-null  int64  \n",
      " 19  Store Service               25976 non-null  int64  \n",
      " 20  Cleanliness                 25976 non-null  int64  \n",
      " 21  Carrier delay in minutes    25976 non-null  int64  \n",
      " 22  Delivery delay in minutes   25893 non-null  float64\n",
      "dtypes: float64(1), int64(18), object(4)\n",
      "memory usage: 4.6+ MB\n"
     ]
    }
   ],
   "source": [
    "df_test.info()"
   ]
  },
  {
   "cell_type": "markdown",
   "id": "92e94dc7",
   "metadata": {},
   "source": [
    "### Renomear Colunas"
   ]
  },
  {
   "cell_type": "code",
   "execution_count": 12,
   "id": "82cc92c2",
   "metadata": {
    "ExecuteTime": {
     "end_time": "2023-07-16T20:07:27.620199Z",
     "start_time": "2023-07-16T20:07:27.593012Z"
    }
   },
   "outputs": [
    {
     "data": {
      "text/plain": [
       "Index(['id', 'Gender', 'Customer Type', 'Age', 'Type of Purchase',\n",
       "       'Store size', 'Store distance', 'InStore wifi',\n",
       "       'Open/Close time convenient', 'Easy of online shopping',\n",
       "       'Store location', 'Toilet cleaning', 'Dressing room', 'Waiting room',\n",
       "       'Kids entertainment', 'Seller service', 'Showroom ', 'Self-Store',\n",
       "       'Purchase service', 'Store Service', 'Cleanliness',\n",
       "       'Carrier delay in minutes', 'Delivery delay in minutes',\n",
       "       'Satisfaction'],\n",
       "      dtype='object')"
      ]
     },
     "execution_count": 12,
     "metadata": {},
     "output_type": "execute_result"
    }
   ],
   "source": [
    "df1 = df_raw.copy()\n",
    "df1.columns"
   ]
  },
  {
   "cell_type": "code",
   "execution_count": 13,
   "id": "d3b876b7",
   "metadata": {
    "ExecuteTime": {
     "end_time": "2023-07-16T20:07:27.651586Z",
     "start_time": "2023-07-16T20:07:27.623716Z"
    }
   },
   "outputs": [
    {
     "data": {
      "text/plain": [
       "Index(['id', 'gender', 'customer_type', 'age', 'type_of_purchase',\n",
       "       'store_size', 'store_distance', 'instore_wifi',\n",
       "       'open/close_time_convenient', 'easy_of_online_shopping',\n",
       "       'store_location', 'toilet_cleaning', 'dressing_room', 'waiting_room',\n",
       "       'kids_entertainment', 'seller_service', 'showroom', 'self_store',\n",
       "       'purchase_service', 'store_service', 'cleanliness',\n",
       "       'carrier_delay_in_minutes', 'delivery_delay_in_minutes',\n",
       "       'satisfaction'],\n",
       "      dtype='object')"
      ]
     },
     "execution_count": 13,
     "metadata": {},
     "output_type": "execute_result"
    }
   ],
   "source": [
    "old_columns = [ 'id', 'Gender', 'Customer Type', 'Age', 'Type of Purchase',\n",
    "       'Store size', 'Store distance', 'InStore wifi',\n",
    "       'Open/Close time convenient', 'Easy of online shopping',\n",
    "       'Store location', 'Toilet cleaning', 'Dressing room', 'Waiting room',\n",
    "       'Kids entertainment', 'Seller service', 'Showroom ', 'Self-Store',\n",
    "       'Purchase service', 'Store Service', 'Cleanliness',\n",
    "       'Carrier delay in minutes', 'Delivery delay in minutes',\n",
    "       'Satisfaction' ]\n",
    "\n",
    "\n",
    "old_columns = pd.Series(old_columns).apply(lambda x: x.strip().replace(' ', '_').lower())\n",
    "\n",
    "# Rename\n",
    "df1.columns = old_columns\n",
    "df1 = df1.rename(columns={'self-store':'self_store'})\n",
    "\n",
    "df1.columns"
   ]
  },
  {
   "cell_type": "code",
   "execution_count": 14,
   "id": "cfc20c02",
   "metadata": {
    "ExecuteTime": {
     "end_time": "2023-07-16T20:07:27.682486Z",
     "start_time": "2023-07-16T20:07:27.654587Z"
    }
   },
   "outputs": [
    {
     "data": {
      "text/plain": [
       "Index(['id', 'gender', 'customer_type', 'age', 'type_of_purchase',\n",
       "       'store_size', 'store_distance', 'instore_wifi',\n",
       "       'open/close_time_convenient', 'easy_of_online_shopping',\n",
       "       'store_location', 'toilet_cleaning', 'dressing_room', 'waiting_room',\n",
       "       'kids_entertainment', 'seller_service', 'showroom', 'self_store',\n",
       "       'purchase_service', 'store_service', 'cleanliness',\n",
       "       'carrier_delay_in_minutes', 'delivery_delay_in_minutes'],\n",
       "      dtype='object')"
      ]
     },
     "execution_count": 14,
     "metadata": {},
     "output_type": "execute_result"
    }
   ],
   "source": [
    "old_columns_test = [ 'id', 'Gender', 'Customer Type', 'Age', 'Type of Purchase',\n",
    "       'Store size', 'Store distance', 'InStore wifi',\n",
    "       'Open/Close time convenient', 'Easy of online shopping',\n",
    "       'Store location', 'Toilet cleaning', 'Dressing room', 'Waiting room',\n",
    "       'Kids entertainment', 'Seller service', 'Showroom ', 'Self-Store',\n",
    "       'Purchase service', 'Store Service', 'Cleanliness',\n",
    "       'Carrier delay in minutes', 'Delivery delay in minutes']\n",
    "\n",
    "\n",
    "old_columns_test = pd.Series(old_columns_test).apply(lambda x: x.strip().replace(' ', '_').lower())\n",
    "\n",
    "# Rename\n",
    "df_test.columns = old_columns_test\n",
    "df_test = df_test.rename(columns={'self-store':'self_store'})\n",
    "\n",
    "df_test.columns"
   ]
  },
  {
   "cell_type": "markdown",
   "id": "7100b3d3",
   "metadata": {},
   "source": [
    "### Tratando NAs"
   ]
  },
  {
   "cell_type": "code",
   "execution_count": 15,
   "id": "76dca8b0",
   "metadata": {
    "ExecuteTime": {
     "end_time": "2023-07-16T20:07:27.776180Z",
     "start_time": "2023-07-16T20:07:27.686992Z"
    }
   },
   "outputs": [
    {
     "data": {
      "text/plain": [
       "id                              0\n",
       "gender                          0\n",
       "customer_type                   0\n",
       "age                             0\n",
       "type_of_purchase                0\n",
       "store_size                      0\n",
       "store_distance                  0\n",
       "instore_wifi                    0\n",
       "open/close_time_convenient      0\n",
       "easy_of_online_shopping         0\n",
       "store_location                  0\n",
       "toilet_cleaning                 0\n",
       "dressing_room                   0\n",
       "waiting_room                    0\n",
       "kids_entertainment              0\n",
       "seller_service                  0\n",
       "showroom                        0\n",
       "self_store                      0\n",
       "purchase_service                0\n",
       "store_service                   0\n",
       "cleanliness                     0\n",
       "carrier_delay_in_minutes        0\n",
       "delivery_delay_in_minutes     310\n",
       "satisfaction                    0\n",
       "dtype: int64"
      ]
     },
     "execution_count": 15,
     "metadata": {},
     "output_type": "execute_result"
    }
   ],
   "source": [
    "df1.isna().sum()"
   ]
  },
  {
   "cell_type": "code",
   "execution_count": 16,
   "id": "b2e766d7",
   "metadata": {
    "ExecuteTime": {
     "end_time": "2023-07-16T20:07:27.822441Z",
     "start_time": "2023-07-16T20:07:27.777236Z"
    }
   },
   "outputs": [],
   "source": [
    "# Remover as linhas que contêm valores 'None' na coluna 'Satisfaction'\n",
    "df1.dropna(subset=['delivery_delay_in_minutes'], inplace=True)"
   ]
  },
  {
   "cell_type": "code",
   "execution_count": 17,
   "id": "d050c9cf",
   "metadata": {
    "ExecuteTime": {
     "end_time": "2023-07-16T20:07:27.933519Z",
     "start_time": "2023-07-16T20:07:27.825987Z"
    }
   },
   "outputs": [
    {
     "data": {
      "text/plain": [
       "id                            0\n",
       "gender                        0\n",
       "customer_type                 0\n",
       "age                           0\n",
       "type_of_purchase              0\n",
       "store_size                    0\n",
       "store_distance                0\n",
       "instore_wifi                  0\n",
       "open/close_time_convenient    0\n",
       "easy_of_online_shopping       0\n",
       "store_location                0\n",
       "toilet_cleaning               0\n",
       "dressing_room                 0\n",
       "waiting_room                  0\n",
       "kids_entertainment            0\n",
       "seller_service                0\n",
       "showroom                      0\n",
       "self_store                    0\n",
       "purchase_service              0\n",
       "store_service                 0\n",
       "cleanliness                   0\n",
       "carrier_delay_in_minutes      0\n",
       "delivery_delay_in_minutes     0\n",
       "satisfaction                  0\n",
       "dtype: int64"
      ]
     },
     "execution_count": 17,
     "metadata": {},
     "output_type": "execute_result"
    }
   ],
   "source": [
    "df1.isna().sum()"
   ]
  },
  {
   "cell_type": "code",
   "execution_count": 18,
   "id": "b1d0dcdb",
   "metadata": {
    "ExecuteTime": {
     "end_time": "2023-07-16T20:07:27.954659Z",
     "start_time": "2023-07-16T20:07:27.935527Z"
    }
   },
   "outputs": [
    {
     "data": {
      "text/plain": [
       "(103594, 24)"
      ]
     },
     "execution_count": 18,
     "metadata": {},
     "output_type": "execute_result"
    }
   ],
   "source": [
    "df1.shape"
   ]
  },
  {
   "cell_type": "markdown",
   "id": "aea6e885",
   "metadata": {},
   "source": [
    "## Estatística Descritiva"
   ]
  },
  {
   "cell_type": "code",
   "execution_count": 19,
   "id": "b2dbc6fd",
   "metadata": {
    "ExecuteTime": {
     "end_time": "2023-07-16T20:07:28.104342Z",
     "start_time": "2023-07-16T20:07:27.957806Z"
    }
   },
   "outputs": [
    {
     "data": {
      "text/html": [
       "<div>\n",
       "<style scoped>\n",
       "    .dataframe tbody tr th:only-of-type {\n",
       "        vertical-align: middle;\n",
       "    }\n",
       "\n",
       "    .dataframe tbody tr th {\n",
       "        vertical-align: top;\n",
       "    }\n",
       "\n",
       "    .dataframe thead th {\n",
       "        text-align: right;\n",
       "    }\n",
       "</style>\n",
       "<table border=\"1\" class=\"dataframe\">\n",
       "  <thead>\n",
       "    <tr style=\"text-align: right;\">\n",
       "      <th></th>\n",
       "      <th>count</th>\n",
       "      <th>mean</th>\n",
       "      <th>std</th>\n",
       "      <th>min</th>\n",
       "      <th>25%</th>\n",
       "      <th>50%</th>\n",
       "      <th>75%</th>\n",
       "      <th>max</th>\n",
       "    </tr>\n",
       "  </thead>\n",
       "  <tbody>\n",
       "    <tr>\n",
       "      <th>id</th>\n",
       "      <td>103594.0</td>\n",
       "      <td>64942.428625</td>\n",
       "      <td>37460.816597</td>\n",
       "      <td>1.0</td>\n",
       "      <td>32562.25</td>\n",
       "      <td>64890.0</td>\n",
       "      <td>97370.5</td>\n",
       "      <td>129880.0</td>\n",
       "    </tr>\n",
       "    <tr>\n",
       "      <th>age</th>\n",
       "      <td>103594.0</td>\n",
       "      <td>39.380466</td>\n",
       "      <td>15.113125</td>\n",
       "      <td>7.0</td>\n",
       "      <td>27.00</td>\n",
       "      <td>40.0</td>\n",
       "      <td>51.0</td>\n",
       "      <td>85.0</td>\n",
       "    </tr>\n",
       "    <tr>\n",
       "      <th>store_distance</th>\n",
       "      <td>103594.0</td>\n",
       "      <td>1189.325202</td>\n",
       "      <td>997.297235</td>\n",
       "      <td>31.0</td>\n",
       "      <td>414.00</td>\n",
       "      <td>842.0</td>\n",
       "      <td>1743.0</td>\n",
       "      <td>4983.0</td>\n",
       "    </tr>\n",
       "    <tr>\n",
       "      <th>instore_wifi</th>\n",
       "      <td>103594.0</td>\n",
       "      <td>2.729753</td>\n",
       "      <td>1.327866</td>\n",
       "      <td>0.0</td>\n",
       "      <td>2.00</td>\n",
       "      <td>3.0</td>\n",
       "      <td>4.0</td>\n",
       "      <td>5.0</td>\n",
       "    </tr>\n",
       "    <tr>\n",
       "      <th>open/close_time_convenient</th>\n",
       "      <td>103594.0</td>\n",
       "      <td>3.060081</td>\n",
       "      <td>1.525233</td>\n",
       "      <td>0.0</td>\n",
       "      <td>2.00</td>\n",
       "      <td>3.0</td>\n",
       "      <td>4.0</td>\n",
       "      <td>5.0</td>\n",
       "    </tr>\n",
       "    <tr>\n",
       "      <th>easy_of_online_shopping</th>\n",
       "      <td>103594.0</td>\n",
       "      <td>2.756984</td>\n",
       "      <td>1.398934</td>\n",
       "      <td>0.0</td>\n",
       "      <td>2.00</td>\n",
       "      <td>3.0</td>\n",
       "      <td>4.0</td>\n",
       "      <td>5.0</td>\n",
       "    </tr>\n",
       "    <tr>\n",
       "      <th>store_location</th>\n",
       "      <td>103594.0</td>\n",
       "      <td>2.977026</td>\n",
       "      <td>1.277723</td>\n",
       "      <td>0.0</td>\n",
       "      <td>2.00</td>\n",
       "      <td>3.0</td>\n",
       "      <td>4.0</td>\n",
       "      <td>5.0</td>\n",
       "    </tr>\n",
       "    <tr>\n",
       "      <th>toilet_cleaning</th>\n",
       "      <td>103594.0</td>\n",
       "      <td>3.202126</td>\n",
       "      <td>1.329401</td>\n",
       "      <td>0.0</td>\n",
       "      <td>2.00</td>\n",
       "      <td>3.0</td>\n",
       "      <td>4.0</td>\n",
       "      <td>5.0</td>\n",
       "    </tr>\n",
       "    <tr>\n",
       "      <th>dressing_room</th>\n",
       "      <td>103594.0</td>\n",
       "      <td>3.250497</td>\n",
       "      <td>1.349433</td>\n",
       "      <td>0.0</td>\n",
       "      <td>2.00</td>\n",
       "      <td>3.0</td>\n",
       "      <td>4.0</td>\n",
       "      <td>5.0</td>\n",
       "    </tr>\n",
       "    <tr>\n",
       "      <th>waiting_room</th>\n",
       "      <td>103594.0</td>\n",
       "      <td>3.439765</td>\n",
       "      <td>1.318896</td>\n",
       "      <td>0.0</td>\n",
       "      <td>2.00</td>\n",
       "      <td>4.0</td>\n",
       "      <td>5.0</td>\n",
       "      <td>5.0</td>\n",
       "    </tr>\n",
       "    <tr>\n",
       "      <th>kids_entertainment</th>\n",
       "      <td>103594.0</td>\n",
       "      <td>3.358341</td>\n",
       "      <td>1.333030</td>\n",
       "      <td>0.0</td>\n",
       "      <td>2.00</td>\n",
       "      <td>4.0</td>\n",
       "      <td>4.0</td>\n",
       "      <td>5.0</td>\n",
       "    </tr>\n",
       "    <tr>\n",
       "      <th>seller_service</th>\n",
       "      <td>103594.0</td>\n",
       "      <td>3.382609</td>\n",
       "      <td>1.288284</td>\n",
       "      <td>0.0</td>\n",
       "      <td>2.00</td>\n",
       "      <td>4.0</td>\n",
       "      <td>4.0</td>\n",
       "      <td>5.0</td>\n",
       "    </tr>\n",
       "    <tr>\n",
       "      <th>showroom</th>\n",
       "      <td>103594.0</td>\n",
       "      <td>3.351401</td>\n",
       "      <td>1.315409</td>\n",
       "      <td>0.0</td>\n",
       "      <td>2.00</td>\n",
       "      <td>4.0</td>\n",
       "      <td>4.0</td>\n",
       "      <td>5.0</td>\n",
       "    </tr>\n",
       "    <tr>\n",
       "      <th>self_store</th>\n",
       "      <td>103594.0</td>\n",
       "      <td>3.631687</td>\n",
       "      <td>1.181051</td>\n",
       "      <td>1.0</td>\n",
       "      <td>3.00</td>\n",
       "      <td>4.0</td>\n",
       "      <td>5.0</td>\n",
       "      <td>5.0</td>\n",
       "    </tr>\n",
       "    <tr>\n",
       "      <th>purchase_service</th>\n",
       "      <td>103594.0</td>\n",
       "      <td>3.304323</td>\n",
       "      <td>1.265396</td>\n",
       "      <td>0.0</td>\n",
       "      <td>3.00</td>\n",
       "      <td>3.0</td>\n",
       "      <td>4.0</td>\n",
       "      <td>5.0</td>\n",
       "    </tr>\n",
       "    <tr>\n",
       "      <th>store_service</th>\n",
       "      <td>103594.0</td>\n",
       "      <td>3.640761</td>\n",
       "      <td>1.175603</td>\n",
       "      <td>0.0</td>\n",
       "      <td>3.00</td>\n",
       "      <td>4.0</td>\n",
       "      <td>5.0</td>\n",
       "      <td>5.0</td>\n",
       "    </tr>\n",
       "    <tr>\n",
       "      <th>cleanliness</th>\n",
       "      <td>103594.0</td>\n",
       "      <td>3.286397</td>\n",
       "      <td>1.312194</td>\n",
       "      <td>0.0</td>\n",
       "      <td>2.00</td>\n",
       "      <td>3.0</td>\n",
       "      <td>4.0</td>\n",
       "      <td>5.0</td>\n",
       "    </tr>\n",
       "    <tr>\n",
       "      <th>carrier_delay_in_minutes</th>\n",
       "      <td>103594.0</td>\n",
       "      <td>14.747939</td>\n",
       "      <td>38.116737</td>\n",
       "      <td>0.0</td>\n",
       "      <td>0.00</td>\n",
       "      <td>0.0</td>\n",
       "      <td>12.0</td>\n",
       "      <td>1592.0</td>\n",
       "    </tr>\n",
       "    <tr>\n",
       "      <th>delivery_delay_in_minutes</th>\n",
       "      <td>103594.0</td>\n",
       "      <td>15.178678</td>\n",
       "      <td>38.698682</td>\n",
       "      <td>0.0</td>\n",
       "      <td>0.00</td>\n",
       "      <td>0.0</td>\n",
       "      <td>13.0</td>\n",
       "      <td>1584.0</td>\n",
       "    </tr>\n",
       "  </tbody>\n",
       "</table>\n",
       "</div>"
      ],
      "text/plain": [
       "                               count          mean           std   min       25%      50%      75%       max\n",
       "id                          103594.0  64942.428625  37460.816597   1.0  32562.25  64890.0  97370.5  129880.0\n",
       "age                         103594.0     39.380466     15.113125   7.0     27.00     40.0     51.0      85.0\n",
       "store_distance              103594.0   1189.325202    997.297235  31.0    414.00    842.0   1743.0    4983.0\n",
       "instore_wifi                103594.0      2.729753      1.327866   0.0      2.00      3.0      4.0       5.0\n",
       "open/close_time_convenient  103594.0      3.060081      1.525233   0.0      2.00      3.0      4.0       5.0\n",
       "easy_of_online_shopping     103594.0      2.756984      1.398934   0.0      2.00      3.0      4.0       5.0\n",
       "store_location              103594.0      2.977026      1.277723   0.0      2.00      3.0      4.0       5.0\n",
       "toilet_cleaning             103594.0      3.202126      1.329401   0.0      2.00      3.0      4.0       5.0\n",
       "dressing_room               103594.0      3.250497      1.349433   0.0      2.00      3.0      4.0       5.0\n",
       "waiting_room                103594.0      3.439765      1.318896   0.0      2.00      4.0      5.0       5.0\n",
       "kids_entertainment          103594.0      3.358341      1.333030   0.0      2.00      4.0      4.0       5.0\n",
       "seller_service              103594.0      3.382609      1.288284   0.0      2.00      4.0      4.0       5.0\n",
       "showroom                    103594.0      3.351401      1.315409   0.0      2.00      4.0      4.0       5.0\n",
       "self_store                  103594.0      3.631687      1.181051   1.0      3.00      4.0      5.0       5.0\n",
       "purchase_service            103594.0      3.304323      1.265396   0.0      3.00      3.0      4.0       5.0\n",
       "store_service               103594.0      3.640761      1.175603   0.0      3.00      4.0      5.0       5.0\n",
       "cleanliness                 103594.0      3.286397      1.312194   0.0      2.00      3.0      4.0       5.0\n",
       "carrier_delay_in_minutes    103594.0     14.747939     38.116737   0.0      0.00      0.0     12.0    1592.0\n",
       "delivery_delay_in_minutes   103594.0     15.178678     38.698682   0.0      0.00      0.0     13.0    1584.0"
      ]
     },
     "execution_count": 19,
     "metadata": {},
     "output_type": "execute_result"
    }
   ],
   "source": [
    "df1.describe().T"
   ]
  },
  {
   "cell_type": "markdown",
   "id": "c2e41c09",
   "metadata": {},
   "source": [
    "## EDA Automática - Sweetviz"
   ]
  },
  {
   "cell_type": "code",
   "execution_count": 23,
   "id": "51f51851",
   "metadata": {
    "ExecuteTime": {
     "end_time": "2023-07-16T18:51:32.847918Z",
     "start_time": "2023-07-16T18:50:44.147116Z"
    },
    "deletable": false,
    "editable": false,
    "run_control": {
     "frozen": true
    }
   },
   "outputs": [
    {
     "data": {
      "application/vnd.jupyter.widget-view+json": {
       "model_id": "c40889d5cecb4299bf8ceb6e1f18408d",
       "version_major": 2,
       "version_minor": 0
      },
      "text/plain": [
       "                                             |                                             | [  0%]   00:00 ->…"
      ]
     },
     "metadata": {},
     "output_type": "display_data"
    },
    {
     "name": "stdout",
     "output_type": "stream",
     "text": [
      "Report SWEETVIZ_REPORT.html was generated! NOTEBOOK/COLAB USERS: the web browser MAY not pop up, regardless, the report IS saved in your notebook/colab files.\n"
     ]
    }
   ],
   "source": [
    "eda_raw = sweetviz.analyze(df1)\n",
    "eda_raw.show_html()"
   ]
  },
  {
   "cell_type": "code",
   "execution_count": 25,
   "id": "6b24eca6",
   "metadata": {
    "ExecuteTime": {
     "end_time": "2023-07-16T18:55:11.655742Z",
     "start_time": "2023-07-16T18:54:20.412671Z"
    },
    "deletable": false,
    "editable": false,
    "run_control": {
     "frozen": true
    }
   },
   "outputs": [
    {
     "data": {
      "application/vnd.jupyter.widget-view+json": {
       "model_id": "7624379b04544c1abf3b75aa3bebb6fc",
       "version_major": 2,
       "version_minor": 0
      },
      "text/plain": [
       "                                             |                                             | [  0%]   00:00 ->…"
      ]
     },
     "metadata": {},
     "output_type": "display_data"
    },
    {
     "name": "stdout",
     "output_type": "stream",
     "text": [
      "Report SWEETVIZ_REPORT.html was generated! NOTEBOOK/COLAB USERS: the web browser MAY not pop up, regardless, the report IS saved in your notebook/colab files.\n"
     ]
    }
   ],
   "source": [
    "eda_target = sweetviz.compare_intra(df1, df1['satisfaction'] == 'Neutral or Dissatisfaction', ['Insatisfeito', 'Satisfeito'])\n",
    "eda_target.show_html()"
   ]
  },
  {
   "cell_type": "markdown",
   "id": "714241a4",
   "metadata": {},
   "source": [
    "## Pré Processamento para ML"
   ]
  },
  {
   "cell_type": "markdown",
   "id": "2444c835",
   "metadata": {},
   "source": [
    "### Excluindo variáveis não importantes"
   ]
  },
  {
   "cell_type": "markdown",
   "id": "f0d392c7",
   "metadata": {},
   "source": [
    "Escolha das variáveis conforme análise / notebook da Talitha"
   ]
  },
  {
   "cell_type": "code",
   "execution_count": 20,
   "id": "fd3ea672",
   "metadata": {
    "ExecuteTime": {
     "end_time": "2023-07-16T20:07:28.119467Z",
     "start_time": "2023-07-16T20:07:28.105848Z"
    }
   },
   "outputs": [
    {
     "data": {
      "text/plain": [
       "Index(['id', 'gender', 'customer_type', 'age', 'type_of_purchase',\n",
       "       'store_size', 'store_distance', 'instore_wifi',\n",
       "       'open/close_time_convenient', 'easy_of_online_shopping',\n",
       "       'store_location', 'toilet_cleaning', 'dressing_room', 'waiting_room',\n",
       "       'kids_entertainment', 'seller_service', 'showroom', 'self_store',\n",
       "       'purchase_service', 'store_service', 'cleanliness',\n",
       "       'carrier_delay_in_minutes', 'delivery_delay_in_minutes',\n",
       "       'satisfaction'],\n",
       "      dtype='object')"
      ]
     },
     "execution_count": 20,
     "metadata": {},
     "output_type": "execute_result"
    }
   ],
   "source": [
    "df1.columns"
   ]
  },
  {
   "cell_type": "code",
   "execution_count": 21,
   "id": "651bdcef",
   "metadata": {
    "ExecuteTime": {
     "end_time": "2023-07-16T20:07:28.135728Z",
     "start_time": "2023-07-16T20:07:28.121379Z"
    }
   },
   "outputs": [],
   "source": [
    "treino = df1.copy()\n",
    "teste = df_test.copy()"
   ]
  },
  {
   "cell_type": "code",
   "execution_count": 22,
   "id": "b312216c",
   "metadata": {
    "ExecuteTime": {
     "end_time": "2023-07-16T20:07:28.166705Z",
     "start_time": "2023-07-16T20:07:28.137754Z"
    }
   },
   "outputs": [],
   "source": [
    "treino.drop(['id', 'gender', 'carrier_delay_in_minutes', 'delivery_delay_in_minutes'], axis=1, inplace=True)\n",
    "teste.drop(['id', 'gender', 'carrier_delay_in_minutes', 'delivery_delay_in_minutes'], axis=1, inplace=True)"
   ]
  },
  {
   "cell_type": "code",
   "execution_count": 23,
   "id": "5c0c2c7e",
   "metadata": {
    "ExecuteTime": {
     "end_time": "2023-07-16T20:07:28.197140Z",
     "start_time": "2023-07-16T20:07:28.168747Z"
    }
   },
   "outputs": [
    {
     "data": {
      "text/html": [
       "<div>\n",
       "<style scoped>\n",
       "    .dataframe tbody tr th:only-of-type {\n",
       "        vertical-align: middle;\n",
       "    }\n",
       "\n",
       "    .dataframe tbody tr th {\n",
       "        vertical-align: top;\n",
       "    }\n",
       "\n",
       "    .dataframe thead th {\n",
       "        text-align: right;\n",
       "    }\n",
       "</style>\n",
       "<table border=\"1\" class=\"dataframe\">\n",
       "  <thead>\n",
       "    <tr style=\"text-align: right;\">\n",
       "      <th></th>\n",
       "      <th>customer_type</th>\n",
       "      <th>age</th>\n",
       "      <th>type_of_purchase</th>\n",
       "      <th>store_size</th>\n",
       "      <th>store_distance</th>\n",
       "      <th>instore_wifi</th>\n",
       "      <th>open/close_time_convenient</th>\n",
       "      <th>easy_of_online_shopping</th>\n",
       "      <th>store_location</th>\n",
       "      <th>toilet_cleaning</th>\n",
       "      <th>dressing_room</th>\n",
       "      <th>waiting_room</th>\n",
       "      <th>kids_entertainment</th>\n",
       "      <th>seller_service</th>\n",
       "      <th>showroom</th>\n",
       "      <th>self_store</th>\n",
       "      <th>purchase_service</th>\n",
       "      <th>store_service</th>\n",
       "      <th>cleanliness</th>\n",
       "      <th>satisfaction</th>\n",
       "    </tr>\n",
       "  </thead>\n",
       "  <tbody>\n",
       "    <tr>\n",
       "      <th>0</th>\n",
       "      <td>Loyal Customer</td>\n",
       "      <td>13</td>\n",
       "      <td>Personal</td>\n",
       "      <td>Small</td>\n",
       "      <td>460</td>\n",
       "      <td>3</td>\n",
       "      <td>4</td>\n",
       "      <td>3</td>\n",
       "      <td>1</td>\n",
       "      <td>5</td>\n",
       "      <td>3</td>\n",
       "      <td>5</td>\n",
       "      <td>5</td>\n",
       "      <td>4</td>\n",
       "      <td>3</td>\n",
       "      <td>4</td>\n",
       "      <td>4</td>\n",
       "      <td>5</td>\n",
       "      <td>5</td>\n",
       "      <td>Neutral or Dissatisfaction</td>\n",
       "    </tr>\n",
       "    <tr>\n",
       "      <th>1</th>\n",
       "      <td>disloyal Customer</td>\n",
       "      <td>25</td>\n",
       "      <td>Gift</td>\n",
       "      <td>Large</td>\n",
       "      <td>235</td>\n",
       "      <td>3</td>\n",
       "      <td>2</td>\n",
       "      <td>3</td>\n",
       "      <td>3</td>\n",
       "      <td>1</td>\n",
       "      <td>3</td>\n",
       "      <td>1</td>\n",
       "      <td>1</td>\n",
       "      <td>1</td>\n",
       "      <td>5</td>\n",
       "      <td>3</td>\n",
       "      <td>1</td>\n",
       "      <td>4</td>\n",
       "      <td>1</td>\n",
       "      <td>Neutral or Dissatisfaction</td>\n",
       "    </tr>\n",
       "    <tr>\n",
       "      <th>2</th>\n",
       "      <td>Loyal Customer</td>\n",
       "      <td>26</td>\n",
       "      <td>Gift</td>\n",
       "      <td>Large</td>\n",
       "      <td>1142</td>\n",
       "      <td>2</td>\n",
       "      <td>2</td>\n",
       "      <td>2</td>\n",
       "      <td>2</td>\n",
       "      <td>5</td>\n",
       "      <td>5</td>\n",
       "      <td>5</td>\n",
       "      <td>5</td>\n",
       "      <td>4</td>\n",
       "      <td>3</td>\n",
       "      <td>4</td>\n",
       "      <td>4</td>\n",
       "      <td>4</td>\n",
       "      <td>5</td>\n",
       "      <td>Satisfied</td>\n",
       "    </tr>\n",
       "    <tr>\n",
       "      <th>3</th>\n",
       "      <td>Loyal Customer</td>\n",
       "      <td>25</td>\n",
       "      <td>Gift</td>\n",
       "      <td>Large</td>\n",
       "      <td>562</td>\n",
       "      <td>2</td>\n",
       "      <td>5</td>\n",
       "      <td>5</td>\n",
       "      <td>5</td>\n",
       "      <td>2</td>\n",
       "      <td>2</td>\n",
       "      <td>2</td>\n",
       "      <td>2</td>\n",
       "      <td>2</td>\n",
       "      <td>5</td>\n",
       "      <td>3</td>\n",
       "      <td>1</td>\n",
       "      <td>4</td>\n",
       "      <td>2</td>\n",
       "      <td>Neutral or Dissatisfaction</td>\n",
       "    </tr>\n",
       "    <tr>\n",
       "      <th>4</th>\n",
       "      <td>Loyal Customer</td>\n",
       "      <td>61</td>\n",
       "      <td>Gift</td>\n",
       "      <td>Large</td>\n",
       "      <td>214</td>\n",
       "      <td>3</td>\n",
       "      <td>3</td>\n",
       "      <td>3</td>\n",
       "      <td>3</td>\n",
       "      <td>4</td>\n",
       "      <td>5</td>\n",
       "      <td>5</td>\n",
       "      <td>3</td>\n",
       "      <td>3</td>\n",
       "      <td>4</td>\n",
       "      <td>4</td>\n",
       "      <td>3</td>\n",
       "      <td>3</td>\n",
       "      <td>3</td>\n",
       "      <td>Satisfied</td>\n",
       "    </tr>\n",
       "  </tbody>\n",
       "</table>\n",
       "</div>"
      ],
      "text/plain": [
       "       customer_type  age type_of_purchase store_size  store_distance  instore_wifi  open/close_time_convenient  easy_of_online_shopping  store_location  toilet_cleaning  dressing_room  waiting_room  kids_entertainment  seller_service  showroom  self_store  purchase_service  store_service  cleanliness                satisfaction\n",
       "0     Loyal Customer   13         Personal      Small             460             3                           4                        3               1                5              3             5                   5               4         3           4                 4              5            5  Neutral or Dissatisfaction\n",
       "1  disloyal Customer   25             Gift      Large             235             3                           2                        3               3                1              3             1                   1               1         5           3                 1              4            1  Neutral or Dissatisfaction\n",
       "2     Loyal Customer   26             Gift      Large            1142             2                           2                        2               2                5              5             5                   5               4         3           4                 4              4            5                   Satisfied\n",
       "3     Loyal Customer   25             Gift      Large             562             2                           5                        5               5                2              2             2                   2               2         5           3                 1              4            2  Neutral or Dissatisfaction\n",
       "4     Loyal Customer   61             Gift      Large             214             3                           3                        3               3                4              5             5                   3               3         4           4                 3              3            3                   Satisfied"
      ]
     },
     "execution_count": 23,
     "metadata": {},
     "output_type": "execute_result"
    }
   ],
   "source": [
    "treino.head()"
   ]
  },
  {
   "cell_type": "markdown",
   "id": "f8d6ea14",
   "metadata": {},
   "source": [
    "### Tratar Categóricas"
   ]
  },
  {
   "cell_type": "code",
   "execution_count": 24,
   "id": "d7fa3563",
   "metadata": {
    "ExecuteTime": {
     "end_time": "2023-07-16T20:07:28.227848Z",
     "start_time": "2023-07-16T20:07:28.199145Z"
    }
   },
   "outputs": [],
   "source": [
    "#variável target\n",
    "treino['satisfaction'] = treino['satisfaction'].map({'Neutral or Dissatisfaction': 0, 'Satisfied': 1})"
   ]
  },
  {
   "cell_type": "code",
   "execution_count": 25,
   "id": "2bea8ba1",
   "metadata": {
    "ExecuteTime": {
     "end_time": "2023-07-16T20:07:28.321981Z",
     "start_time": "2023-07-16T20:07:28.230246Z"
    }
   },
   "outputs": [],
   "source": [
    "treino = pd.get_dummies(treino, columns=['customer_type', 'type_of_purchase', 'store_size'], drop_first=True)\n",
    "teste = pd.get_dummies(teste, columns=['customer_type', 'type_of_purchase', 'store_size'], drop_first=True)"
   ]
  },
  {
   "cell_type": "markdown",
   "id": "84cf233b",
   "metadata": {},
   "source": [
    "### Tratar Escala"
   ]
  },
  {
   "cell_type": "code",
   "execution_count": 26,
   "id": "02025084",
   "metadata": {
    "ExecuteTime": {
     "end_time": "2023-07-16T20:07:28.337870Z",
     "start_time": "2023-07-16T20:07:28.325602Z"
    }
   },
   "outputs": [],
   "source": [
    "sc = StandardScaler()"
   ]
  },
  {
   "cell_type": "code",
   "execution_count": 27,
   "id": "cf8147a9",
   "metadata": {
    "ExecuteTime": {
     "end_time": "2023-07-16T20:07:28.368506Z",
     "start_time": "2023-07-16T20:07:28.339864Z"
    }
   },
   "outputs": [
    {
     "data": {
      "text/html": [
       "<div>\n",
       "<style scoped>\n",
       "    .dataframe tbody tr th:only-of-type {\n",
       "        vertical-align: middle;\n",
       "    }\n",
       "\n",
       "    .dataframe tbody tr th {\n",
       "        vertical-align: top;\n",
       "    }\n",
       "\n",
       "    .dataframe thead th {\n",
       "        text-align: right;\n",
       "    }\n",
       "</style>\n",
       "<table border=\"1\" class=\"dataframe\">\n",
       "  <thead>\n",
       "    <tr style=\"text-align: right;\">\n",
       "      <th></th>\n",
       "      <th>age</th>\n",
       "      <th>store_distance</th>\n",
       "      <th>instore_wifi</th>\n",
       "      <th>open/close_time_convenient</th>\n",
       "      <th>easy_of_online_shopping</th>\n",
       "      <th>store_location</th>\n",
       "      <th>toilet_cleaning</th>\n",
       "      <th>dressing_room</th>\n",
       "      <th>waiting_room</th>\n",
       "      <th>kids_entertainment</th>\n",
       "      <th>seller_service</th>\n",
       "      <th>showroom</th>\n",
       "      <th>self_store</th>\n",
       "      <th>purchase_service</th>\n",
       "      <th>store_service</th>\n",
       "      <th>cleanliness</th>\n",
       "      <th>satisfaction</th>\n",
       "      <th>customer_type_disloyal Customer</th>\n",
       "      <th>type_of_purchase_Personal</th>\n",
       "      <th>store_size_Medium</th>\n",
       "      <th>store_size_Small</th>\n",
       "    </tr>\n",
       "  </thead>\n",
       "  <tbody>\n",
       "    <tr>\n",
       "      <th>0</th>\n",
       "      <td>13</td>\n",
       "      <td>460</td>\n",
       "      <td>3</td>\n",
       "      <td>4</td>\n",
       "      <td>3</td>\n",
       "      <td>1</td>\n",
       "      <td>5</td>\n",
       "      <td>3</td>\n",
       "      <td>5</td>\n",
       "      <td>5</td>\n",
       "      <td>4</td>\n",
       "      <td>3</td>\n",
       "      <td>4</td>\n",
       "      <td>4</td>\n",
       "      <td>5</td>\n",
       "      <td>5</td>\n",
       "      <td>0</td>\n",
       "      <td>0</td>\n",
       "      <td>1</td>\n",
       "      <td>0</td>\n",
       "      <td>1</td>\n",
       "    </tr>\n",
       "    <tr>\n",
       "      <th>1</th>\n",
       "      <td>25</td>\n",
       "      <td>235</td>\n",
       "      <td>3</td>\n",
       "      <td>2</td>\n",
       "      <td>3</td>\n",
       "      <td>3</td>\n",
       "      <td>1</td>\n",
       "      <td>3</td>\n",
       "      <td>1</td>\n",
       "      <td>1</td>\n",
       "      <td>1</td>\n",
       "      <td>5</td>\n",
       "      <td>3</td>\n",
       "      <td>1</td>\n",
       "      <td>4</td>\n",
       "      <td>1</td>\n",
       "      <td>0</td>\n",
       "      <td>1</td>\n",
       "      <td>0</td>\n",
       "      <td>0</td>\n",
       "      <td>0</td>\n",
       "    </tr>\n",
       "    <tr>\n",
       "      <th>2</th>\n",
       "      <td>26</td>\n",
       "      <td>1142</td>\n",
       "      <td>2</td>\n",
       "      <td>2</td>\n",
       "      <td>2</td>\n",
       "      <td>2</td>\n",
       "      <td>5</td>\n",
       "      <td>5</td>\n",
       "      <td>5</td>\n",
       "      <td>5</td>\n",
       "      <td>4</td>\n",
       "      <td>3</td>\n",
       "      <td>4</td>\n",
       "      <td>4</td>\n",
       "      <td>4</td>\n",
       "      <td>5</td>\n",
       "      <td>1</td>\n",
       "      <td>0</td>\n",
       "      <td>0</td>\n",
       "      <td>0</td>\n",
       "      <td>0</td>\n",
       "    </tr>\n",
       "    <tr>\n",
       "      <th>3</th>\n",
       "      <td>25</td>\n",
       "      <td>562</td>\n",
       "      <td>2</td>\n",
       "      <td>5</td>\n",
       "      <td>5</td>\n",
       "      <td>5</td>\n",
       "      <td>2</td>\n",
       "      <td>2</td>\n",
       "      <td>2</td>\n",
       "      <td>2</td>\n",
       "      <td>2</td>\n",
       "      <td>5</td>\n",
       "      <td>3</td>\n",
       "      <td>1</td>\n",
       "      <td>4</td>\n",
       "      <td>2</td>\n",
       "      <td>0</td>\n",
       "      <td>0</td>\n",
       "      <td>0</td>\n",
       "      <td>0</td>\n",
       "      <td>0</td>\n",
       "    </tr>\n",
       "    <tr>\n",
       "      <th>4</th>\n",
       "      <td>61</td>\n",
       "      <td>214</td>\n",
       "      <td>3</td>\n",
       "      <td>3</td>\n",
       "      <td>3</td>\n",
       "      <td>3</td>\n",
       "      <td>4</td>\n",
       "      <td>5</td>\n",
       "      <td>5</td>\n",
       "      <td>3</td>\n",
       "      <td>3</td>\n",
       "      <td>4</td>\n",
       "      <td>4</td>\n",
       "      <td>3</td>\n",
       "      <td>3</td>\n",
       "      <td>3</td>\n",
       "      <td>1</td>\n",
       "      <td>0</td>\n",
       "      <td>0</td>\n",
       "      <td>0</td>\n",
       "      <td>0</td>\n",
       "    </tr>\n",
       "  </tbody>\n",
       "</table>\n",
       "</div>"
      ],
      "text/plain": [
       "   age  store_distance  instore_wifi  open/close_time_convenient  easy_of_online_shopping  store_location  toilet_cleaning  dressing_room  waiting_room  kids_entertainment  seller_service  showroom  self_store  purchase_service  store_service  cleanliness  satisfaction  customer_type_disloyal Customer  type_of_purchase_Personal  store_size_Medium  store_size_Small\n",
       "0   13             460             3                           4                        3               1                5              3             5                   5               4         3           4                 4              5            5             0                                0                          1                  0                 1\n",
       "1   25             235             3                           2                        3               3                1              3             1                   1               1         5           3                 1              4            1             0                                1                          0                  0                 0\n",
       "2   26            1142             2                           2                        2               2                5              5             5                   5               4         3           4                 4              4            5             1                                0                          0                  0                 0\n",
       "3   25             562             2                           5                        5               5                2              2             2                   2               2         5           3                 1              4            2             0                                0                          0                  0                 0\n",
       "4   61             214             3                           3                        3               3                4              5             5                   3               3         4           4                 3              3            3             1                                0                          0                  0                 0"
      ]
     },
     "execution_count": 27,
     "metadata": {},
     "output_type": "execute_result"
    }
   ],
   "source": [
    "treino.head()"
   ]
  },
  {
   "cell_type": "code",
   "execution_count": 28,
   "id": "e57f7a08",
   "metadata": {
    "ExecuteTime": {
     "end_time": "2023-07-16T20:07:28.399698Z",
     "start_time": "2023-07-16T20:07:28.375504Z"
    }
   },
   "outputs": [
    {
     "data": {
      "text/plain": [
       "age                                0\n",
       "store_distance                     0\n",
       "instore_wifi                       0\n",
       "open/close_time_convenient         0\n",
       "easy_of_online_shopping            0\n",
       "store_location                     0\n",
       "toilet_cleaning                    0\n",
       "dressing_room                      0\n",
       "waiting_room                       0\n",
       "kids_entertainment                 0\n",
       "seller_service                     0\n",
       "showroom                           0\n",
       "self_store                         0\n",
       "purchase_service                   0\n",
       "store_service                      0\n",
       "cleanliness                        0\n",
       "satisfaction                       0\n",
       "customer_type_disloyal Customer    0\n",
       "type_of_purchase_Personal          0\n",
       "store_size_Medium                  0\n",
       "store_size_Small                   0\n",
       "dtype: int64"
      ]
     },
     "execution_count": 28,
     "metadata": {},
     "output_type": "execute_result"
    }
   ],
   "source": [
    "treino.isna().sum()"
   ]
  },
  {
   "cell_type": "code",
   "execution_count": 29,
   "id": "d18da468",
   "metadata": {
    "ExecuteTime": {
     "end_time": "2023-07-16T20:07:28.414954Z",
     "start_time": "2023-07-16T20:07:28.402700Z"
    }
   },
   "outputs": [
    {
     "data": {
      "text/plain": [
       "age                                0\n",
       "store_distance                     0\n",
       "instore_wifi                       0\n",
       "open/close_time_convenient         0\n",
       "easy_of_online_shopping            0\n",
       "store_location                     0\n",
       "toilet_cleaning                    0\n",
       "dressing_room                      0\n",
       "waiting_room                       0\n",
       "kids_entertainment                 0\n",
       "seller_service                     0\n",
       "showroom                           0\n",
       "self_store                         0\n",
       "purchase_service                   0\n",
       "store_service                      0\n",
       "cleanliness                        0\n",
       "customer_type_disloyal Customer    0\n",
       "type_of_purchase_Personal          0\n",
       "store_size_Medium                  0\n",
       "store_size_Small                   0\n",
       "dtype: int64"
      ]
     },
     "execution_count": 29,
     "metadata": {},
     "output_type": "execute_result"
    }
   ],
   "source": [
    "teste.isna().sum()"
   ]
  },
  {
   "cell_type": "code",
   "execution_count": 30,
   "id": "a11ec31b",
   "metadata": {
    "ExecuteTime": {
     "end_time": "2023-07-16T20:13:55.107874Z",
     "start_time": "2023-07-16T20:13:55.059071Z"
    }
   },
   "outputs": [],
   "source": [
    "treino[['age', 'store_distance']] = sc.fit_transform(treino[['age', 'store_distance']]) # ajusta as colunas para melhor escala"
   ]
  },
  {
   "cell_type": "markdown",
   "id": "93737a4b",
   "metadata": {},
   "source": [
    "Aplicando para os dados de teste, porém a escala não é ajustada, mas sim apenas transformada. O ajuste é feito somente nos dados de treino."
   ]
  },
  {
   "cell_type": "code",
   "execution_count": 31,
   "id": "b4ac55d3",
   "metadata": {
    "ExecuteTime": {
     "end_time": "2023-07-16T20:15:31.491121Z",
     "start_time": "2023-07-16T20:15:31.473866Z"
    }
   },
   "outputs": [],
   "source": [
    "teste[['age', 'store_distance']] = sc.transform(teste[['age', 'store_distance']]) # ajusta as colunas para melhor escala"
   ]
  },
  {
   "cell_type": "code",
   "execution_count": 32,
   "id": "1403b401",
   "metadata": {
    "ExecuteTime": {
     "end_time": "2023-07-16T20:16:05.056535Z",
     "start_time": "2023-07-16T20:16:05.032553Z"
    }
   },
   "outputs": [],
   "source": [
    "# Separando as variáveis explicativas da variável resposta.\n",
    "X = treino.drop('satisfaction', axis = 1)\n",
    "Y = treino['satisfaction']"
   ]
  },
  {
   "cell_type": "code",
   "execution_count": 33,
   "id": "2b2d6785",
   "metadata": {
    "ExecuteTime": {
     "end_time": "2023-07-16T20:16:06.453619Z",
     "start_time": "2023-07-16T20:16:06.440454Z"
    }
   },
   "outputs": [
    {
     "data": {
      "text/plain": [
       "(103594, 20)"
      ]
     },
     "execution_count": 33,
     "metadata": {},
     "output_type": "execute_result"
    }
   ],
   "source": [
    "X.shape"
   ]
  },
  {
   "cell_type": "code",
   "execution_count": 34,
   "id": "08c4844f",
   "metadata": {
    "ExecuteTime": {
     "end_time": "2023-07-16T20:16:07.930613Z",
     "start_time": "2023-07-16T20:16:07.915676Z"
    }
   },
   "outputs": [
    {
     "data": {
      "text/plain": [
       "(103594,)"
      ]
     },
     "execution_count": 34,
     "metadata": {},
     "output_type": "execute_result"
    }
   ],
   "source": [
    "Y.shape"
   ]
  },
  {
   "cell_type": "code",
   "execution_count": 35,
   "id": "47cdf38f",
   "metadata": {
    "ExecuteTime": {
     "end_time": "2023-07-16T20:16:25.790786Z",
     "start_time": "2023-07-16T20:16:25.761295Z"
    }
   },
   "outputs": [
    {
     "data": {
      "text/html": [
       "<div>\n",
       "<style scoped>\n",
       "    .dataframe tbody tr th:only-of-type {\n",
       "        vertical-align: middle;\n",
       "    }\n",
       "\n",
       "    .dataframe tbody tr th {\n",
       "        vertical-align: top;\n",
       "    }\n",
       "\n",
       "    .dataframe thead th {\n",
       "        text-align: right;\n",
       "    }\n",
       "</style>\n",
       "<table border=\"1\" class=\"dataframe\">\n",
       "  <thead>\n",
       "    <tr style=\"text-align: right;\">\n",
       "      <th></th>\n",
       "      <th>age</th>\n",
       "      <th>store_distance</th>\n",
       "      <th>instore_wifi</th>\n",
       "      <th>open/close_time_convenient</th>\n",
       "      <th>easy_of_online_shopping</th>\n",
       "      <th>store_location</th>\n",
       "      <th>toilet_cleaning</th>\n",
       "      <th>dressing_room</th>\n",
       "      <th>waiting_room</th>\n",
       "      <th>kids_entertainment</th>\n",
       "      <th>seller_service</th>\n",
       "      <th>showroom</th>\n",
       "      <th>self_store</th>\n",
       "      <th>purchase_service</th>\n",
       "      <th>store_service</th>\n",
       "      <th>cleanliness</th>\n",
       "      <th>customer_type_disloyal Customer</th>\n",
       "      <th>type_of_purchase_Personal</th>\n",
       "      <th>store_size_Medium</th>\n",
       "      <th>store_size_Small</th>\n",
       "    </tr>\n",
       "  </thead>\n",
       "  <tbody>\n",
       "    <tr>\n",
       "      <th>0</th>\n",
       "      <td>-1.745542</td>\n",
       "      <td>-0.731305</td>\n",
       "      <td>3</td>\n",
       "      <td>4</td>\n",
       "      <td>3</td>\n",
       "      <td>1</td>\n",
       "      <td>5</td>\n",
       "      <td>3</td>\n",
       "      <td>5</td>\n",
       "      <td>5</td>\n",
       "      <td>4</td>\n",
       "      <td>3</td>\n",
       "      <td>4</td>\n",
       "      <td>4</td>\n",
       "      <td>5</td>\n",
       "      <td>5</td>\n",
       "      <td>0</td>\n",
       "      <td>1</td>\n",
       "      <td>0</td>\n",
       "      <td>1</td>\n",
       "    </tr>\n",
       "    <tr>\n",
       "      <th>1</th>\n",
       "      <td>-0.951526</td>\n",
       "      <td>-0.956916</td>\n",
       "      <td>3</td>\n",
       "      <td>2</td>\n",
       "      <td>3</td>\n",
       "      <td>3</td>\n",
       "      <td>1</td>\n",
       "      <td>3</td>\n",
       "      <td>1</td>\n",
       "      <td>1</td>\n",
       "      <td>1</td>\n",
       "      <td>5</td>\n",
       "      <td>3</td>\n",
       "      <td>1</td>\n",
       "      <td>4</td>\n",
       "      <td>1</td>\n",
       "      <td>1</td>\n",
       "      <td>0</td>\n",
       "      <td>0</td>\n",
       "      <td>0</td>\n",
       "    </tr>\n",
       "    <tr>\n",
       "      <th>2</th>\n",
       "      <td>-0.885358</td>\n",
       "      <td>-0.047454</td>\n",
       "      <td>2</td>\n",
       "      <td>2</td>\n",
       "      <td>2</td>\n",
       "      <td>2</td>\n",
       "      <td>5</td>\n",
       "      <td>5</td>\n",
       "      <td>5</td>\n",
       "      <td>5</td>\n",
       "      <td>4</td>\n",
       "      <td>3</td>\n",
       "      <td>4</td>\n",
       "      <td>4</td>\n",
       "      <td>4</td>\n",
       "      <td>5</td>\n",
       "      <td>0</td>\n",
       "      <td>0</td>\n",
       "      <td>0</td>\n",
       "      <td>0</td>\n",
       "    </tr>\n",
       "    <tr>\n",
       "      <th>3</th>\n",
       "      <td>-0.951526</td>\n",
       "      <td>-0.629028</td>\n",
       "      <td>2</td>\n",
       "      <td>5</td>\n",
       "      <td>5</td>\n",
       "      <td>5</td>\n",
       "      <td>2</td>\n",
       "      <td>2</td>\n",
       "      <td>2</td>\n",
       "      <td>2</td>\n",
       "      <td>2</td>\n",
       "      <td>5</td>\n",
       "      <td>3</td>\n",
       "      <td>1</td>\n",
       "      <td>4</td>\n",
       "      <td>2</td>\n",
       "      <td>0</td>\n",
       "      <td>0</td>\n",
       "      <td>0</td>\n",
       "      <td>0</td>\n",
       "    </tr>\n",
       "    <tr>\n",
       "      <th>4</th>\n",
       "      <td>1.430521</td>\n",
       "      <td>-0.977973</td>\n",
       "      <td>3</td>\n",
       "      <td>3</td>\n",
       "      <td>3</td>\n",
       "      <td>3</td>\n",
       "      <td>4</td>\n",
       "      <td>5</td>\n",
       "      <td>5</td>\n",
       "      <td>3</td>\n",
       "      <td>3</td>\n",
       "      <td>4</td>\n",
       "      <td>4</td>\n",
       "      <td>3</td>\n",
       "      <td>3</td>\n",
       "      <td>3</td>\n",
       "      <td>0</td>\n",
       "      <td>0</td>\n",
       "      <td>0</td>\n",
       "      <td>0</td>\n",
       "    </tr>\n",
       "  </tbody>\n",
       "</table>\n",
       "</div>"
      ],
      "text/plain": [
       "        age  store_distance  instore_wifi  open/close_time_convenient  easy_of_online_shopping  store_location  toilet_cleaning  dressing_room  waiting_room  kids_entertainment  seller_service  showroom  self_store  purchase_service  store_service  cleanliness  customer_type_disloyal Customer  type_of_purchase_Personal  store_size_Medium  store_size_Small\n",
       "0 -1.745542       -0.731305             3                           4                        3               1                5              3             5                   5               4         3           4                 4              5            5                                0                          1                  0                 1\n",
       "1 -0.951526       -0.956916             3                           2                        3               3                1              3             1                   1               1         5           3                 1              4            1                                1                          0                  0                 0\n",
       "2 -0.885358       -0.047454             2                           2                        2               2                5              5             5                   5               4         3           4                 4              4            5                                0                          0                  0                 0\n",
       "3 -0.951526       -0.629028             2                           5                        5               5                2              2             2                   2               2         5           3                 1              4            2                                0                          0                  0                 0\n",
       "4  1.430521       -0.977973             3                           3                        3               3                4              5             5                   3               3         4           4                 3              3            3                                0                          0                  0                 0"
      ]
     },
     "execution_count": 35,
     "metadata": {},
     "output_type": "execute_result"
    }
   ],
   "source": [
    "X.head()"
   ]
  },
  {
   "cell_type": "code",
   "execution_count": 36,
   "id": "101909f4",
   "metadata": {
    "ExecuteTime": {
     "end_time": "2023-07-16T20:17:29.365671Z",
     "start_time": "2023-07-16T20:17:29.353967Z"
    }
   },
   "outputs": [],
   "source": [
    "# Validação cruzada Leave One Out\n",
    "kf = StratifiedKFold(n_splits = 10)"
   ]
  },
  {
   "cell_type": "code",
   "execution_count": 37,
   "id": "211aceea",
   "metadata": {
    "ExecuteTime": {
     "end_time": "2023-07-16T20:17:40.685434Z",
     "start_time": "2023-07-16T20:17:32.570068Z"
    }
   },
   "outputs": [],
   "source": [
    "# Verificando a performance da Regressão Logística\n",
    "\n",
    "lista_de_medidas = ['precision']\n",
    "\n",
    "modelo = LogisticRegression()\n",
    "accs_vc = cross_validate(modelo, X, Y, cv = kf, scoring = lista_de_medidas)"
   ]
  },
  {
   "cell_type": "code",
   "execution_count": 38,
   "id": "d3161c32",
   "metadata": {
    "ExecuteTime": {
     "end_time": "2023-07-16T20:17:42.552227Z",
     "start_time": "2023-07-16T20:17:42.537745Z"
    }
   },
   "outputs": [
    {
     "name": "stdout",
     "output_type": "stream",
     "text": [
      "0.8695809464363176\n"
     ]
    }
   ],
   "source": [
    "print(accs_vc['test_precision'].mean())"
   ]
  },
  {
   "cell_type": "code",
   "execution_count": 39,
   "id": "e580e7b6",
   "metadata": {
    "ExecuteTime": {
     "end_time": "2023-07-16T20:20:18.988528Z",
     "start_time": "2023-07-16T20:20:18.964142Z"
    }
   },
   "outputs": [],
   "source": [
    "# verificando a performance da Regressão Logística\n",
    "def MachineLearning(dataset):\n",
    "\n",
    "    X = treino.drop('satisfaction', axis = 1)\n",
    "    y = treino['satisfaction']\n",
    "\n",
    "    lista_de_medidas = ['accuracy', 'recall', 'precision', 'balanced_accuracy', 'f1']\n",
    "\n",
    "    nome_das_medidas = ['acurácia', 'sensibilidade', 'vpp', 'eficiência', 'f1-score']\n",
    "\n",
    "    lista_de_modelos = [LogisticRegression(),\n",
    "                        DecisionTreeClassifier(max_depth = 3),\n",
    "                        DecisionTreeClassifier(max_depth = 5),\n",
    "                        DecisionTreeClassifier(max_depth = 7),\n",
    "                        KNeighborsClassifier(n_neighbors = 5),\n",
    "                        KNeighborsClassifier(n_neighbors = 15),\n",
    "                        KNeighborsClassifier(n_neighbors = 25),\n",
    "                        BaggingClassifier(),\n",
    "                        RandomForestClassifier(n_estimators=300, max_depth = 3, max_features = 3),\n",
    "                        RandomForestClassifier(n_estimators=300, max_depth = 3, max_features = 4),\n",
    "                        RandomForestClassifier(n_estimators=300, max_depth = 6, max_features = 3),\n",
    "                        RandomForestClassifier(n_estimators=300, max_depth = 6, max_features = 4)]\n",
    "\n",
    "    nome_dos_modelos = ['Regressão Logística',\n",
    "                        'Árvore (prof = 3)',\n",
    "                        'Árvore (prof = 5)',\n",
    "                        'Árvore (prof = 7)',\n",
    "                        '5-NN',\n",
    "                        '15-NN',\n",
    "                        '25-NN',\n",
    "                        'Bagging',\n",
    "                        'Random Forest (prof = 3, mf = 3)',\n",
    "                        'Random Forest (prof = 3, mf = 4)',\n",
    "                        'Random Forest (prof = 6, mf = 3)',\n",
    "                        'Random Forest (prof = 6, mf = 4)']\n",
    "\n",
    "    resultados0 = {}\n",
    "\n",
    "    for i in range(len(lista_de_modelos)):\n",
    "        print('Rodando modelo: ' + nome_dos_modelos[i])\n",
    "        accs_vc = cross_validate(lista_de_modelos[i], X, y, cv = kf, scoring = lista_de_medidas)\n",
    "\n",
    "        acc = accs_vc['test_accuracy'].mean()\n",
    "        sen = accs_vc['test_recall'].mean()\n",
    "        vpp = accs_vc['test_precision'].mean()\n",
    "        bac = accs_vc['test_balanced_accuracy'].mean()\n",
    "        f1s = accs_vc['test_f1'].mean()\n",
    "\n",
    "        resultados0[nome_dos_modelos[i]] = [acc, sen, vpp, f1s, bac]\n",
    "    \n",
    "    resultados = pd.DataFrame(resultados0, index = nome_das_medidas).T\n",
    "\n",
    "    return resultados"
   ]
  },
  {
   "cell_type": "code",
   "execution_count": 40,
   "id": "bf15f737",
   "metadata": {
    "ExecuteTime": {
     "end_time": "2023-07-16T20:34:18.943701Z",
     "start_time": "2023-07-16T20:21:21.953655Z"
    }
   },
   "outputs": [
    {
     "name": "stdout",
     "output_type": "stream",
     "text": [
      "Rodando modelo: Regressão Logística\n",
      "Rodando modelo: Árvore (prof = 3)\n",
      "Rodando modelo: Árvore (prof = 5)\n",
      "Rodando modelo: Árvore (prof = 7)\n",
      "Rodando modelo: 5-NN\n",
      "Rodando modelo: 15-NN\n",
      "Rodando modelo: 25-NN\n",
      "Rodando modelo: Bagging\n",
      "Rodando modelo: Random Forest (prof = 3, mf = 3)\n",
      "Rodando modelo: Random Forest (prof = 3, mf = 4)\n",
      "Rodando modelo: Random Forest (prof = 6, mf = 3)\n",
      "Rodando modelo: Random Forest (prof = 6, mf = 4)\n"
     ]
    },
    {
     "data": {
      "text/html": [
       "<div>\n",
       "<style scoped>\n",
       "    .dataframe tbody tr th:only-of-type {\n",
       "        vertical-align: middle;\n",
       "    }\n",
       "\n",
       "    .dataframe tbody tr th {\n",
       "        vertical-align: top;\n",
       "    }\n",
       "\n",
       "    .dataframe thead th {\n",
       "        text-align: right;\n",
       "    }\n",
       "</style>\n",
       "<table border=\"1\" class=\"dataframe\">\n",
       "  <thead>\n",
       "    <tr style=\"text-align: right;\">\n",
       "      <th></th>\n",
       "      <th>acurácia</th>\n",
       "      <th>sensibilidade</th>\n",
       "      <th>vpp</th>\n",
       "      <th>eficiência</th>\n",
       "      <th>f1-score</th>\n",
       "    </tr>\n",
       "  </thead>\n",
       "  <tbody>\n",
       "    <tr>\n",
       "      <th>Regressão Logística</th>\n",
       "      <td>0.874433</td>\n",
       "      <td>0.835624</td>\n",
       "      <td>0.869581</td>\n",
       "      <td>0.852245</td>\n",
       "      <td>0.869871</td>\n",
       "    </tr>\n",
       "    <tr>\n",
       "      <th>Árvore (prof = 3)</th>\n",
       "      <td>0.884627</td>\n",
       "      <td>0.906586</td>\n",
       "      <td>0.839926</td>\n",
       "      <td>0.871981</td>\n",
       "      <td>0.887208</td>\n",
       "    </tr>\n",
       "    <tr>\n",
       "      <th>Árvore (prof = 5)</th>\n",
       "      <td>0.905081</td>\n",
       "      <td>0.875471</td>\n",
       "      <td>0.902592</td>\n",
       "      <td>0.888822</td>\n",
       "      <td>0.901601</td>\n",
       "    </tr>\n",
       "    <tr>\n",
       "      <th>Árvore (prof = 7)</th>\n",
       "      <td>0.924745</td>\n",
       "      <td>0.891775</td>\n",
       "      <td>0.931703</td>\n",
       "      <td>0.911276</td>\n",
       "      <td>0.920869</td>\n",
       "    </tr>\n",
       "    <tr>\n",
       "      <th>5-NN</th>\n",
       "      <td>NaN</td>\n",
       "      <td>NaN</td>\n",
       "      <td>NaN</td>\n",
       "      <td>NaN</td>\n",
       "      <td>NaN</td>\n",
       "    </tr>\n",
       "    <tr>\n",
       "      <th>15-NN</th>\n",
       "      <td>NaN</td>\n",
       "      <td>NaN</td>\n",
       "      <td>NaN</td>\n",
       "      <td>NaN</td>\n",
       "      <td>NaN</td>\n",
       "    </tr>\n",
       "    <tr>\n",
       "      <th>25-NN</th>\n",
       "      <td>NaN</td>\n",
       "      <td>NaN</td>\n",
       "      <td>NaN</td>\n",
       "      <td>NaN</td>\n",
       "      <td>NaN</td>\n",
       "    </tr>\n",
       "    <tr>\n",
       "      <th>Bagging</th>\n",
       "      <td>0.958019</td>\n",
       "      <td>0.933002</td>\n",
       "      <td>0.968984</td>\n",
       "      <td>0.950648</td>\n",
       "      <td>0.955078</td>\n",
       "    </tr>\n",
       "    <tr>\n",
       "      <th>Random Forest (prof = 3, mf = 3)</th>\n",
       "      <td>0.894598</td>\n",
       "      <td>0.834755</td>\n",
       "      <td>0.914630</td>\n",
       "      <td>0.872845</td>\n",
       "      <td>0.887564</td>\n",
       "    </tr>\n",
       "    <tr>\n",
       "      <th>Random Forest (prof = 3, mf = 4)</th>\n",
       "      <td>0.894434</td>\n",
       "      <td>0.839254</td>\n",
       "      <td>0.910177</td>\n",
       "      <td>0.873261</td>\n",
       "      <td>0.887948</td>\n",
       "    </tr>\n",
       "    <tr>\n",
       "      <th>Random Forest (prof = 6, mf = 3)</th>\n",
       "      <td>0.927612</td>\n",
       "      <td>0.903112</td>\n",
       "      <td>0.927967</td>\n",
       "      <td>0.915352</td>\n",
       "      <td>0.924732</td>\n",
       "    </tr>\n",
       "    <tr>\n",
       "      <th>Random Forest (prof = 6, mf = 4)</th>\n",
       "      <td>0.930276</td>\n",
       "      <td>0.911954</td>\n",
       "      <td>0.926071</td>\n",
       "      <td>0.918944</td>\n",
       "      <td>0.928122</td>\n",
       "    </tr>\n",
       "  </tbody>\n",
       "</table>\n",
       "</div>"
      ],
      "text/plain": [
       "                                  acurácia  sensibilidade       vpp  eficiência  f1-score\n",
       "Regressão Logística               0.874433       0.835624  0.869581    0.852245  0.869871\n",
       "Árvore (prof = 3)                 0.884627       0.906586  0.839926    0.871981  0.887208\n",
       "Árvore (prof = 5)                 0.905081       0.875471  0.902592    0.888822  0.901601\n",
       "Árvore (prof = 7)                 0.924745       0.891775  0.931703    0.911276  0.920869\n",
       "5-NN                                   NaN            NaN       NaN         NaN       NaN\n",
       "15-NN                                  NaN            NaN       NaN         NaN       NaN\n",
       "25-NN                                  NaN            NaN       NaN         NaN       NaN\n",
       "Bagging                           0.958019       0.933002  0.968984    0.950648  0.955078\n",
       "Random Forest (prof = 3, mf = 3)  0.894598       0.834755  0.914630    0.872845  0.887564\n",
       "Random Forest (prof = 3, mf = 4)  0.894434       0.839254  0.910177    0.873261  0.887948\n",
       "Random Forest (prof = 6, mf = 3)  0.927612       0.903112  0.927967    0.915352  0.924732\n",
       "Random Forest (prof = 6, mf = 4)  0.930276       0.911954  0.926071    0.918944  0.928122"
      ]
     },
     "execution_count": 40,
     "metadata": {},
     "output_type": "execute_result"
    }
   ],
   "source": [
    "MachineLearning(treino)"
   ]
  },
  {
   "cell_type": "markdown",
   "id": "1d9a69ba",
   "metadata": {},
   "source": [
    "## Submetendo uma predição no Kaggle"
   ]
  },
  {
   "cell_type": "code",
   "execution_count": 41,
   "id": "369acbc6",
   "metadata": {
    "ExecuteTime": {
     "end_time": "2023-07-16T20:41:11.425279Z",
     "start_time": "2023-07-16T20:41:11.411079Z"
    }
   },
   "outputs": [],
   "source": [
    "# modelo Bagging\n",
    "def Submissao(treino, teste, modelo, nome = 'submissaoKaggle'):\n",
    "\n",
    "    X = treino.drop('satisfaction', axis = 1)\n",
    "    y = treino['satisfaction']\n",
    " \n",
    "    modelo.fit(X, y)\n",
    "    pred = modelo.predict(teste)\n",
    "\n",
    "    url = '../data/raw/test.csv' \n",
    "    subm = pd.read_csv(url, usecols = ['id'])  \n",
    "    subm['satisfaction'] = pred\n",
    "    \n",
    "    subm.to_csv(nome + '.csv', index = False)"
   ]
  },
  {
   "cell_type": "code",
   "execution_count": 43,
   "id": "852cd887",
   "metadata": {
    "ExecuteTime": {
     "end_time": "2023-07-16T20:41:36.413449Z",
     "start_time": "2023-07-16T20:41:28.873231Z"
    }
   },
   "outputs": [],
   "source": [
    "bg = BaggingClassifier()\n",
    "\n",
    "Submissao(treino, teste, modelo = bg, nome = 'SubmissaoBG-setup1')"
   ]
  }
 ],
 "metadata": {
  "hide_input": false,
  "kernelspec": {
   "display_name": "Python 3 (ipykernel)",
   "language": "python",
   "name": "python3"
  },
  "language_info": {
   "codemirror_mode": {
    "name": "ipython",
    "version": 3
   },
   "file_extension": ".py",
   "mimetype": "text/x-python",
   "name": "python",
   "nbconvert_exporter": "python",
   "pygments_lexer": "ipython3",
   "version": "3.9.17"
  },
  "toc": {
   "base_numbering": 1,
   "nav_menu": {},
   "number_sections": true,
   "sideBar": true,
   "skip_h1_title": false,
   "title_cell": "Table of Contents",
   "title_sidebar": "Contents",
   "toc_cell": false,
   "toc_position": {},
   "toc_section_display": true,
   "toc_window_display": false
  }
 },
 "nbformat": 4,
 "nbformat_minor": 5
}
